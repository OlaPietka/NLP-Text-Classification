{
  "cells": [
    {
      "cell_type": "markdown",
      "id": "e6ba51a5",
      "metadata": {
        "id": "e6ba51a5"
      },
      "source": [
        "# Text Classification with Neural Networks\n",
        "Build machine learning models to detect the sentiment of movie reviews using the IMDb movie reviews dataset. Specifically,  implement classifiers based on Convolutional Neural Networks (CNN's) and Recurrent Neural Networks (RNN's)."
      ]
    },
    {
      "cell_type": "markdown",
      "id": "e8a5f6f3",
      "metadata": {
        "id": "e8a5f6f3"
      },
      "source": [
        "Device:"
      ]
    },
    {
      "cell_type": "code",
      "execution_count": 1,
      "id": "7592a5cc",
      "metadata": {
        "colab": {
          "base_uri": "https://localhost:8080/"
        },
        "id": "7592a5cc",
        "outputId": "6a4b42c1-8db6-4d11-a78d-7f649ffdbb8f"
      },
      "outputs": [
        {
          "output_type": "stream",
          "name": "stdout",
          "text": [
            "Using device: cuda\n"
          ]
        }
      ],
      "source": [
        "import torch\n",
        "\n",
        "DEVICE = torch.device('cuda' if torch.cuda.is_available() else 'cpu')\n",
        "\n",
        "if __name__=='__main__':\n",
        "    print('Using device:', DEVICE)"
      ]
    },
    {
      "cell_type": "markdown",
      "id": "0bc9d466",
      "metadata": {
        "id": "0bc9d466"
      },
      "source": [
        "---\n",
        "# Step 1: Download the Data\n",
        "First I will download the dataset using [torchtext](https://torchtext.readthedocs.io/en/latest/index.html), which is a package that supports NLP for PyTorch. "
      ]
    },
    {
      "cell_type": "code",
      "execution_count": 2,
      "id": "3d6c3d28",
      "metadata": {
        "colab": {
          "base_uri": "https://localhost:8080/"
        },
        "id": "3d6c3d28",
        "outputId": "128fa8b6-3822-4164-ec8c-ef5fb6868539"
      },
      "outputs": [
        {
          "output_type": "stream",
          "name": "stdout",
          "text": [
            "Looking in indexes: https://pypi.org/simple, https://us-python.pkg.dev/colab-wheels/public/simple/\n",
            "Collecting torchdata\n",
            "  Downloading torchdata-0.4.1-cp37-cp37m-manylinux_2_17_x86_64.manylinux2014_x86_64.whl (4.4 MB)\n",
            "\u001b[K     |████████████████████████████████| 4.4 MB 33.2 MB/s \n",
            "\u001b[?25hRequirement already satisfied: torch==1.12.1 in /usr/local/lib/python3.7/dist-packages (from torchdata) (1.12.1+cu113)\n",
            "Requirement already satisfied: requests in /usr/local/lib/python3.7/dist-packages (from torchdata) (2.23.0)\n",
            "Collecting portalocker>=2.0.0\n",
            "  Downloading portalocker-2.5.1-py2.py3-none-any.whl (15 kB)\n",
            "Collecting urllib3>=1.25\n",
            "  Downloading urllib3-1.26.12-py2.py3-none-any.whl (140 kB)\n",
            "\u001b[K     |████████████████████████████████| 140 kB 69.2 MB/s \n",
            "\u001b[?25hRequirement already satisfied: typing-extensions in /usr/local/lib/python3.7/dist-packages (from torch==1.12.1->torchdata) (4.1.1)\n",
            "Requirement already satisfied: certifi>=2017.4.17 in /usr/local/lib/python3.7/dist-packages (from requests->torchdata) (2022.6.15)\n",
            "Requirement already satisfied: chardet<4,>=3.0.2 in /usr/local/lib/python3.7/dist-packages (from requests->torchdata) (3.0.4)\n",
            "  Downloading urllib3-1.25.11-py2.py3-none-any.whl (127 kB)\n",
            "\u001b[K     |████████████████████████████████| 127 kB 72.1 MB/s \n",
            "\u001b[?25hRequirement already satisfied: idna<3,>=2.5 in /usr/local/lib/python3.7/dist-packages (from requests->torchdata) (2.10)\n",
            "Installing collected packages: urllib3, portalocker, torchdata\n",
            "  Attempting uninstall: urllib3\n",
            "    Found existing installation: urllib3 1.24.3\n",
            "    Uninstalling urllib3-1.24.3:\n",
            "      Successfully uninstalled urllib3-1.24.3\n",
            "Successfully installed portalocker-2.5.1 torchdata-0.4.1 urllib3-1.25.11\n"
          ]
        }
      ],
      "source": [
        "!pip install torchdata"
      ]
    },
    {
      "cell_type": "markdown",
      "id": "8ac60fac",
      "metadata": {
        "id": "8ac60fac"
      },
      "source": [
        "Get `train_data` and `test_data` with some basic tokenization:"
      ]
    },
    {
      "cell_type": "code",
      "execution_count": 3,
      "id": "acf58dc7",
      "metadata": {
        "colab": {
          "base_uri": "https://localhost:8080/"
        },
        "id": "acf58dc7",
        "outputId": "9aecb3c1-ff90-4fb1-8312-1f0beaec3fb0"
      },
      "outputs": [
        {
          "output_type": "stream",
          "name": "stdout",
          "text": [
            "Num. Train Examples: 20000\n",
            "Num. Test Examples: 5000\n",
            "\n",
            "SAMPLE DATA:\n",
            "Sample text: ['A', 'remarkable', 'documentary', 'about', 'the', 'landmark', 'achievements', 'of', 'the', 'Women', 'Lawyers', 'Association', '(', 'WLA', ')', 'of', 'Kumba', ',', 'in', 'southwest', 'Cameroon', ',', 'in', 'legally', 'safeguarding', 'the', 'rights', 'of', 'women', 'and', 'children', 'from', 'acts', 'of', 'domestic', 'violence', '.', 'In', 'this', 'Muslim', 'culture', ',', 'where', 'men', 'have', 'always', 'been', 'sovereign', 'over', 'women', ',', 'according', 'to', 'Sharia', 'law', ',', 'one', 'can', 'well', 'imagine', 'the', 'difficulty', 'of', 'imposing', 'secular', 'legal', 'rights', 'for', 'women', 'and', 'children', '.', 'After', '17', 'years', 'of', 'failed', 'efforts', ',', 'leaders', 'of', 'the', 'WLA', 'began', 'recently', 'to', 'score', 'a', 'few', 'wins', ',', 'and', 'the', 'purpose', 'of', 'this', 'film', 'is', 'to', 'share', 'these', 'victorious', 'stories.<br', '/><br', '/>The', 'leaders', 'of', 'this', 'legal', 'reform', 'movement', 'are', 'Vera', 'Ngassa', ',', 'a', 'state', 'prosecutor', ',', 'and', 'Beatrice', 'Ntuba', ',', 'a', 'senior', 'judge', '(', 'Court', 'President)', '.', 'Both', 'play', 'themselves', 'in', 'this', 'film', ',', 'which', 'may', 'contain', 'footage', 'shot', 'spontaneously', ',', 'though', 'I', 'imagine', 'much', 'of', 'it', ',', 'if', 'not', 'all', ',', 'consists', 'of', 'subsequent', 'recreations', 'of', 'real', 'events', 'for', 'the', 'camera', '.', 'Four', 'cases', 'are', 'reviewed', ',', 'and', 'all', 'of', 'the', 'plaintiffs', 'also', 'play', 'themselves', 'in', 'the', 'film.<br', '/><br', '/>Two', 'cases', 'involve', 'repeated', 'wife', 'beating', ',', 'with', 'forcible', 'sex', 'in', 'one', 'case', ';', 'another', 'involves', 'forced', 'sex', 'upon', 'a', '10', 'year', 'old', 'girl', ';', 'and', 'yet', 'another', 'concerns', 'the', 'repeated', 'beatings', 'of', 'a', 'child', ',', 'age', '8', ',', 'by', 'an', 'aunt', '.', 'One', 'of', 'the', 'beaten', 'wives', 'also', 'is', 'seeking', 'a', 'divorce', '.', 'We', 'follow', 'the', 'cases', 'from', 'the', 'investigation', 'of', 'complaints', 'to', 'the', 'outcomes', 'of', 'the', 'trials', '.', 'The', 'outcomes', 'in', 'each', 'case', 'are', 'favorable', 'to', 'the', 'women', 'and', 'children', '.', 'The', 'perpetrators', 'receive', 'stiff', 'prison', 'terms', 'and/or', 'fines', ';', 'the', 'divorce', 'is', 'granted.<br', '/><br', '/>The', 'aggressive', 'prosecution', 'of', 'the', 'child', 'beating', 'aunt', 'demonstrates', 'that', 'these', 'female', 'criminal', 'justice', 'officials', 'are', 'indeed', 'gender-neutral', 'when', 'it', 'comes', 'to', 'enforcing', 'the', 'law', '.', 'Also', 'noteworthy', 'is', 'the', 'respect', 'with', 'which', 'all', 'parties', ',', 'including', 'those', 'found', 'guilty', ',', 'are', 'treated', '.', 'This', 'is', 'a', 'highly', 'important', 'and', 'well', 'made', 'film', '.', '(', 'Of', 'interest', 'is', 'the', 'fact', 'that', 'one', 'of', 'the', 'directors', ',', 'Ms', '.', 'Longinotto', ',', 'also', 'co-directed', 'the', '1998', 'film', ',', 'Divorce', ',', 'Iranian', 'Style', ',', 'which', 'dealt', 'with', 'related', 'themes', 'in', 'Tehran.', ')', '(', 'In', 'broken', 'English', 'with', 'English', 'subtitles)', '.', 'My', 'Grade', ':', 'B+', '8/10']\n",
            "Sample label: pos \n",
            "\n",
            "Sample text: ['This', 'movie', 'bewilders', 'me', '.', 'It', 'may', 'be', 'that', \"I'm\", 'just', 'a', 'stupid', 'American', ',', 'but', 'I', 'really', 'just', \"don't\", 'get', '400', 'Blows', '.', 'Everything', \"I've\", 'read', 'about', 'this', 'movie', 'has', 'been', 'a', 'total', 'rave', ',', 'but', 'I', 'just', \"couldn't\", 'stay', 'interested', '.', \"I'm\", 'sure', 'that', 'it', 'was', 'as', 'revolutionary', 'in', 'film-making', 'as', 'all', 'the', 'critics', 'say', ',', 'but', 'when', 'it', 'boils', 'right', 'down', 'to', 'it', ',', \"it's\", 'just', 'really', 'really', 'boring', '.', 'Maybe', \"it's\", 'the', 'language', 'barrier', ',', 'may', \"I'm\", 'just', 'not', '\"', 'sensitive', '\"', 'or', '\"', 'artsy', '\"', 'enough', ',', 'but', 'whatever', 'the', 'case', 'is', ',', 'I', 'hated', 'this', 'movie', '.', 'The', 'story', 'itself', \"isn't\", 'bad', ';', \"it's\", 'about', 'a', 'young', 'French', 'boy', 'who', 'is', 'treated', 'unfairly', 'by', 'his', 'parents', 'and', 'his', 'teachers', ',', 'and', 'eventually', 'he', 'ends', 'up', 'in', 'a', 'juvenile', 'facility', '.', 'That', 'in', 'itself', 'ought', 'to', 'be', 'interesting', ',', 'and', 'it', 'was', ',', 'at', 'first', '.', 'There', 'was', 'nothing', 'wrong', 'with', 'the', 'dialogue', ',', 'but', 'then', 'again', \"it's\", 'hard', 'to', 'say', 'because', 'half', 'of', 'the', 'conversations', \"weren't\", 'subtitled', 'and', 'for', 'no', 'apparent', 'reason', ',', 'so', 'I', \"didn't\", 'always', 'know', 'what', 'was', 'going', 'on', '.', 'But', 'for', 'the', 'dialogue', 'we', 'could', 'understand', ',', 'it', 'made', 'enough', 'sense', '.', 'The', 'actors', 'were', 'believable', 'enough', ',', 'but', \"it's\", 'hard', 'to', 'say', 'what', 'a', 'real', 'person', 'would', 'do', 'in', 'these', 'situations', '.', 'So', 'you', 'feel', 'for', 'the', 'main', 'character', ',', 'but', 'only', 'in', 'the', 'sense', 'that', 'when', 'he', 'gets', 'into', 'trouble', 'you', 'think', ',', 'well', 'that', 'sucks', '.', 'The', 'plot', \"isn't\", 'even', 'your', 'typical', 'plot', '.', 'Each', 'time', 'he', 'gets', 'in', 'trouble', ',', 'he', 'gets', 'into', 'more', 'trouble', 'than', 'the', 'last', 'time', ',', 'but', 'the', 'reasons', 'never', 'vary', 'too', 'much', '.', 'And', 'through', 'the', 'entire', 'film', 'you', 'realize', 'that', \"there's\", 'nothing', 'the', 'main', 'character', 'can', 'really', 'do', 'about', 'it', '.', 'So', \"it's\", 'more', 'like', 'just', 'waiting', 'to', 'see', 'how', 'it', 'ends', '.', 'The', 'ending', ',', 'by', 'the', 'way', ',', 'was', 'completely', 'over', 'my', 'head', '.', \"It's\", 'way', 'too', 'artsy', 'for', 'me', ',', 'and', 'I', 'just', \"didn't\", 'get', 'it', '.', 'Leading', 'up', 'to', 'the', 'end', 'was', 'easy', 'enough', 'to', 'follow', '.', 'The', 'structure', 'was', 'certainly', 'there', ',', 'and', 'it', 'made', 'sense', 'as', 'well', ',', 'but', 'everything', 'was', 'really', 'drawn', 'out', '.', 'For', 'the', 'amount', 'of', 'dialogue', 'and', 'significant', 'moments', ',', 'the', 'movie', 'could', 'have', 'been', 'an', 'hour', 'shorter', '.', 'It', 'just', \"didn't\", 'end', '.', 'Part', 'of', 'it', 'was', 'the', 'unnecessarily', 'long', 'shots', ',', 'none', 'of', 'which', 'were', 'especially', 'memorable', ';', 'for', 'example', ',', 'the', 'ending', 'was', 'a', 'clip', 'of', 'the', 'main', 'character', 'running', 'down', 'a', 'country', 'road', 'that', 'lasted', 'a', 'good', 'thirty', 'seconds', '.', 'Now', ',', \"I'm\", 'sure', 'that', 'had', 'some', 'deeper', 'meaning', 'in', 'it', 'somewhere', ',', 'but', 'for', 'the', 'average', 'viewer', ',', \"I'd\", 'rather', 'have', 'gotten', 'up', 'to', 'get', 'some', 'more', 'food', 'during', 'that', 'time', '.', 'Or', 'at', 'least', 'done', 'something', 'a', 'little', 'more', 'useful', 'than', 'sit', 'and', 'watch', 'this', 'boy', 'running', ',', 'like', 'doing', 'my', 'laundry', ',', 'or', 'taking', 'a', 'nap', '.', '<br', '/><br', '/>Final', 'Verdict', '<br', '/><br', '/>The', 'feeling', 'throughout', 'the', 'whole', 'movie', 'was', 'that', 'this', 'probably', 'would', 'be', 'very', 'moving', 'and', 'just', 'amazing', 'and', 'that', 'it', 'would', 'teach', 'me', 'some', 'great', 'life', 'lesson', ',', 'if', 'I', 'could', 'only', 'get', 'what', 'the', 'director', 'was', 'trying', 'to', 'say', 'by', 'his\\x85', 'unique', 'decisions', '.', 'As', 'it', 'was', ',', 'I', 'just', 'felt', 'cheated', 'out', 'of', 'a', 'good', 'two', 'hours', 'of', 'my', 'life', '.']\n",
            "Sample label: neg \n",
            "\n",
            "Sample text: ['This', 'movie', 'is', 'not', 'for', 'everyone', '.', \"You're\", 'either', 'bright', 'enough', 'to', 'get', '\"', 'it', '\"', 'or', \"you're\", 'not', '.', 'Fans', 'of', 'sci-fi', 'films', 'who', \"don't\", 'take', 'themselves', 'too', 'seriously', 'definitely', 'will', 'enjoy', 'this', 'movie', '.', 'I', 'recommend', 'this', 'movie', 'for', 'those', 'who', 'can', 'appreciate', 'spoofs', 'and', 'parodies', '.', 'Everyone', \"I've\", 'recommended', 'this', 'film', 'to', 'has', 'enjoyed', 'it', '.', 'If', 'you', 'enjoy', 'Monty', 'Python', 'or', 'Mel', 'Brooks', 'films', ',', \"you'll\", 'probably', 'enjoy', 'this', 'one', '.', 'The', 'voice', 'characterizations', 'are', 'done', 'in', 'a', 'tongue-in-cheek', 'manner', 'and', 'the', 'one-liners', 'fly', 'fast', 'and', 'furious', '.']\n",
            "Sample label: pos \n",
            "\n",
            "Sample text: ['This', 'movie', 'was', 'way', 'too', 'slow', 'and', 'predictable.I', 'wish', 'i', 'could', 'say', 'more', 'but', 'i', \"can't.If\", 'you', 'enjoy', 'action/adventure', 'films,this', 'is', 'not', 'one', 'to', \"see.I'd\", 'suggest', 'you', 'go', 'see', 'movies', 'like;Behind', 'Enemy', 'Lines', 'with', 'Owen', 'Wilson', 'and', 'Iron', 'Eagle', 'with', 'Louis', 'Gossett', 'Jr', '.']\n",
            "Sample label: neg \n",
            "\n",
            "Sample text: ['<br', '/><br', '/>Back', 'in', 'his', 'youth', ',', 'the', 'old', 'man', 'had', 'wanted', 'to', 'marry', 'his', 'first', 'cousin', ',', 'but', 'his', 'family', 'forbid', 'it', '.', 'Many', 'decades', 'later', ',', 'the', 'old', 'man', 'has', 'raised', 'three', 'children', '(', 'two', 'boys', 'and', 'one', 'girl)', ',', 'and', 'allows', 'his', 'son', 'and', 'daughter', 'to', 'marry', 'and', 'have', 'children', '.', 'Soon', ',', 'the', 'sister', 'is', 'bored', 'with', 'brother', '#1', ',', 'and', 'jumps', 'in', 'the', 'bed', 'of', 'brother', '#2.<br', '/><br', '/>One', 'might', 'think', 'that', 'the', 'three', 'siblings', 'are', 'stuck', 'somewhere', 'on', 'a', 'remote', 'island', '.', 'But', 'no', '--', 'they', 'are', 'upper', 'class', 'Europeans', 'going', 'to', 'college', 'and', 'busy', 'in', 'the', 'social', 'world.<br', '/><br', '/>Never', 'do', 'we', 'see', 'a', 'flirtatious', 'moment', 'between', 'any', 'non-related', 'female', 'and', 'the', 'two', 'brothers', '.', 'Never', 'do', 'we', 'see', 'any', 'flirtatious', 'moment', 'between', 'any', 'non-related', 'male', 'and', 'the', 'one', 'sister', '.', 'All', 'flirtatious', 'moments', 'are', 'shared', 'between', 'only', 'between', 'the', 'brothers', 'and', 'sister.<br', '/><br', '/>The', 'weakest', 'part', 'of', 'GLADIATOR', 'was', 'the', 'incest', 'thing', '.', 'The', 'young', 'emperor', 'Commodus', 'would', 'have', 'hundreds', 'of', 'slave', 'girls', 'and', 'a', 'city', 'full', 'of', 'marriage-minded', 'girls', 'all', 'over', 'him', ',', 'but', 'no', '--', 'he', 'only', 'wanted', 'his', 'sister', '?', 'If', 'movie', 'incest', 'is', 'your', 'cup', 'of', 'tea', ',', 'then', 'SUNSHINE', 'will', '(', 'slowly', ')', 'thrill', 'you', 'to', 'no', 'end', '.']\n",
            "Sample label: neg \n",
            "\n"
          ]
        }
      ],
      "source": [
        "import torchtext\n",
        "import random\n",
        "\n",
        "def preprocess(review):\n",
        "    res = []\n",
        "    for x in review.split(' '):\n",
        "        remove_beg = x[0] in {'(', '\"', \"'\"}\n",
        "        remove_end = x[-1] in {'.', ',', ';', ':', '?', '!', '\"', \"'\", ')'}\n",
        "        \n",
        "        if remove_beg and remove_end: \n",
        "            res += [x[0], x[1:-1], x[-1]]\n",
        "        elif remove_beg:\n",
        "            res += [x[0], x[1:]]\n",
        "        elif remove_end: \n",
        "            res += [x[:-1], x[-1]]\n",
        "        else: res += [x]\n",
        "    return res\n",
        "\n",
        "if __name__=='__main__':\n",
        "    train_data = torchtext.datasets.IMDB(root='.data', split='train')\n",
        "    train_data = list(train_data)\n",
        "    train_data = [(x[0], preprocess(x[1])) for x in train_data]\n",
        "    train_data, test_data = train_data[0:10000] + train_data[12500:12500+10000], train_data[10000:12500] + train_data[12500+10000:], \n",
        "\n",
        "    print('Num. Train Examples:', len(train_data))\n",
        "    print('Num. Test Examples:', len(test_data))\n",
        "\n",
        "    print(\"\\nSAMPLE DATA:\")\n",
        "    for x in random.sample(train_data, 5):\n",
        "        print('Sample text:', x[1])\n",
        "        print('Sample label:', x[0], '\\n')"
      ]
    },
    {
      "cell_type": "markdown",
      "id": "e5587353",
      "metadata": {
        "id": "e5587353"
      },
      "source": [
        "---\n",
        "# Step 2: Create Dataloader"
      ]
    },
    {
      "cell_type": "markdown",
      "id": "0b2c5271",
      "metadata": {
        "id": "0b2c5271"
      },
      "source": [
        "## Define the Dataset Class\n",
        "\n",
        "In the following cell, I will define the <b>dataset</b> class. The dataset contains the tokenized data for your model. \n",
        "\n",
        "Functions:\n",
        "\n",
        "*   <b>` build_dictionary(self)`:</b> Creates the dictionaries `idx2word` and `word2idx`.\n",
        "\n",
        "* <b>`convert_text(self)`:</b> Converts each review in the dataset to a list of indices, given by `word2idx` dictionary.\n",
        "\n",
        "*   <b>` get_text(self, idx) `:</b> Return the review at `idx` in the dataset as an array of indices corresponding to the words in the review.\n",
        "\n",
        "*   <b>`get_label(self, idx) `</b>: Return the value `1` if the label for `idx` in the dataset is `positive`, and should return `0` if it is `negative`.\n",
        "\n",
        "*  <b> ` __len__(self) `:</b> Return the total number of reviews in the dataset as an `int`.\n",
        "\n",
        "*   <b>` __getitem__(self, idx)`:</b> Return the (padded) text, and the label."
      ]
    },
    {
      "cell_type": "code",
      "execution_count": 4,
      "id": "204cc192",
      "metadata": {
        "id": "204cc192"
      },
      "outputs": [],
      "source": [
        "PAD = '<PAD>'\n",
        "END = '<END>'\n",
        "UNK = '<UNK>'"
      ]
    },
    {
      "cell_type": "code",
      "execution_count": 5,
      "id": "78c456c7",
      "metadata": {
        "id": "78c456c7"
      },
      "outputs": [],
      "source": [
        "from torch.utils import data\n",
        "from collections import defaultdict\n",
        "\n",
        "\n",
        "class TextDataset(data.Dataset):\n",
        "    def __init__(self, examples, split, threshold, max_len, idx2word=None, word2idx=None):\n",
        "        self.examples = examples\n",
        "        self.split = split\n",
        "        self.threshold = threshold\n",
        "        self.max_len = max_len\n",
        "\n",
        "        # Dictionaries\n",
        "        self.idx2word = idx2word\n",
        "        self.word2idx = word2idx\n",
        "        if split == 'train':\n",
        "            self.build_dictionary()\n",
        "        self.vocab_size = len(self.word2idx)\n",
        "        \n",
        "        # Convert text to indices\n",
        "        self.textual_ids = []\n",
        "        self.convert_text()\n",
        "\n",
        "    \n",
        "    def build_dictionary(self): \n",
        "        assert self.split == 'train'\n",
        "        \n",
        "        self.idx2word = {0:PAD, 1:END, 2: UNK}\n",
        "        self.word2idx = {PAD:0, END:1, UNK: 2}\n",
        "        \n",
        "        count = {}\n",
        "        idx = 3\n",
        "        \n",
        "        for example in self.examples:\n",
        "            for word in example[1]:\n",
        "                word = word.lower()\n",
        "                if word in count.keys():\n",
        "                    count[word] += 1\n",
        "                else:\n",
        "                    count[word] = 1\n",
        "                    \n",
        "        for word in count.keys():\n",
        "            if count[word] >= self.threshold:\n",
        "                self.idx2word[idx] = word\n",
        "                self.word2idx[word] = idx\n",
        "                idx += 1\n",
        "        pass\n",
        "    \n",
        "    def convert_text(self):\n",
        "        for example in self.examples:\n",
        "            example_ids = []\n",
        "            for word in example[1]:\n",
        "                if word not in self.word2idx.keys():\n",
        "                    word = UNK\n",
        "                    \n",
        "                example_ids.append(self.word2idx[word])\n",
        "            example_ids.append(self.word2idx[END])\n",
        "            self.textual_ids.append([example[0], example_ids])\n",
        "        pass\n",
        "\n",
        "    def get_text(self, idx):\n",
        "        _, ids = self.textual_ids[idx]\n",
        "        if len(ids) > self.max_len:\n",
        "            return torch.LongTensor(ids[:self.max_len])\n",
        "        \n",
        "        for _ in range(self.max_len - len(ids)):\n",
        "            ids.append(self.word2idx[PAD])\n",
        "            \n",
        "        return torch.LongTensor(ids)\n",
        "    \n",
        "    def get_label(self, idx):\n",
        "        label_map = {'pos': 1, 'neg': 0}\n",
        "        return torch.tensor(label_map[self.textual_ids[idx][0]])\n",
        "\n",
        "    def __len__(self):\n",
        "        return len(self.textual_ids)\n",
        "    \n",
        "    def __getitem__(self, idx):\n",
        "        return self.get_text(idx), self.get_label(idx)"
      ]
    },
    {
      "cell_type": "markdown",
      "id": "40c26a96",
      "metadata": {
        "id": "40c26a96"
      },
      "source": [
        "The following cell builds the dataset on the IMDb movie reviews and prints an example:"
      ]
    },
    {
      "cell_type": "code",
      "execution_count": 6,
      "id": "25a3e319",
      "metadata": {
        "colab": {
          "base_uri": "https://localhost:8080/"
        },
        "id": "25a3e319",
        "outputId": "7bcd0c13-3816-489f-943b-36465d9a0c61"
      },
      "outputs": [
        {
          "output_type": "stream",
          "name": "stdout",
          "text": [
            "Vocab size: 19002 \n",
            "\n",
            "Example text:\n",
            "['You', 'know', \"you're\", 'in', 'for', 'something', 'different', 'when', 'a', 'movie', 'has', 'Christopher', 'Walken', 'playing', 'the', 'part', 'of', 'a', 'professional', 'hit', 'man', '-', 'and', 'he', \"isn't\", 'even', 'one', 'of', 'the', 'bad', 'guys', '!', 'Although', 'it', 'could', 'do', 'with', 'some', 'judicious', 'trimming', 'here', 'and', 'there', ',', '\"', 'Man', 'on', 'Fire', '\"', 'is', 'a', 'generally', 'effective', 'crime', 'drama', 'that', 'ranges', 'in', 'tone', 'from', 'the', 'openly', 'sentimental', 'to', 'the', 'downright', 'brutal', '-', 'and', 'just', 'about', 'every', 'tone', 'imaginable', 'in', 'between.<br', '/><br', '/>Denzel', 'Washington', 'stars', 'as', 'Creasy', ',', 'a', 'former', 'CIA', 'assassin', 'who', 'has', 'recently', 'quit', 'the', 'business', 'and', 'is', 'seeking', 'some', 'sort', 'of', 'redemption', 'for', 'the', 'sins', \"he's\", 'committed', '.', 'So', 'far', ',', \"he's\", 'been', 'looking', 'for', 'answers', 'in', 'a', 'bottle', 'and', 'the', 'Bible', 'and', 'not', 'doing', 'all', 'that', 'well', 'with', 'either', '.', 'As', 'the', 'movie', 'opens', ',', 'Mexico', 'City', 'has', 'been', 'ravaged', 'by', 'a', 'series', 'of', 'kidnappings', 'aimed', 'at', 'the', 'powerful', 'and', 'well-to-do', ',', 'possibly', 'perpetrated', 'by', 'the', 'very', 'police', 'force', 'assigned', 'to', 'keep', 'law', 'and', 'order', 'in', 'the', 'community', '.', 'Creasy', 'accepts', 'the', 'position', 'as', 'bodyguard', 'to', 'the', 'daughter', 'of', 'a', 'wealthy', 'business', 'owner', 'who', 'rightly', 'fears', 'for', 'her', 'safety', '.', 'The', 'first', 'third', 'of', 'the', 'film', 'is', 'devoted', 'to', 'the', 'growing', 'friendship', 'between', 'Creasy', 'and', 'his', 'charge', ',', 'Pita', ',', 'a', 'sweet', 'little', 'girl', 'who', ',', 'slowly', 'but', 'surely', ',', 'works', 'her', 'way', 'into', \"Creasy's\", 'initially', 'hardened', 'heart', 'and', 'affections', '.', 'The', 'last', 'two-thirds', 'of', 'the', 'film', 'turns', 'into', 'an', 'Avenging', 'Angel', 'melodrama', ',', 'as', 'Creasy', 'systematically', 'seeks', 'out', 'and', 'eliminates', 'all', 'those', 'responsible', 'for', 'a', 'tragedy', 'that', 'occurs', 'early', 'on', 'in', 'the', 'story.<br', '/><br', '/>Based', 'on', 'the', 'novel', 'by', 'A.J', 'Quinnell', ',', '\"', 'Man', 'on', 'Fire,', '\"', 'astutely', 'written', 'by', 'Brian', 'Helgeland', 'and', 'flashily', 'directed', 'by', 'Tony', 'Scott', ',', 'is', 'a', 'coolly', 'efficient', 'action', 'picture', 'that', 'never', 'shies', 'away', 'from', 'the', 'raw', 'brutality', 'of', 'its', 'subject', 'matter', '.', 'It', 'takes', 'a', 'risk', 'in', 'asking', 'us', 'to', 'identify', 'with', 'a', 'man', 'who', 'is', ',', 'for', 'all', 'intents', 'and', 'purposes', ',', 'achieving', 'his', 'redemption', 'by', 'torturing', 'and', 'murdering', '(', 'admittedly', 'disreputable', ')', 'people', '.', 'These', 'scenes', 'of', 'carnage', 'and', 'violence', 'are', 'both', 'intense', 'and', 'suspenseful', ',', 'even', 'if', 'they', 'do', 'at', 'times', 'border', 'on', 'the', 'exploitative', '.', 'Even', 'better', 'are', 'the', 'quiet', ',', 'intimate', 'moments', 'between', 'Creasy', 'and', 'Pita', 'in', 'the', 'early', 'parts', 'of', 'the', 'movie', '.', 'Washington', 'and', 'the', 'wonderful', 'Dakota', 'Fanning', 'establish', 'an', 'natural', ',', 'easygoing', 'rapport', 'that', 'helps', 'to', 'set', 'the', 'stage', 'for', 'the', 'chaos', 'and', 'turmoil', 'to', 'follow.<br', '/><br', '/>Washington', 'carries', 'the', 'movie', 'with', 'his', 'quality', 'of', 'stoic', 'righteousness', ',', 'making', 'us', 'understand', 'his', 'character', 'on', 'an', 'emotional', 'level', 'even', 'if', 'what', 'he', 'is', 'doing', 'eludes', 'us', 'intellectually', '.', 'In', 'addition', 'to', 'the', 'two', 'leads', ',', 'there', 'are', 'solid', 'performances', 'from', 'Walken', ',', 'Marc', 'Anthony', ',', 'Radha', 'Mitchell', ',', 'Mickey', 'Rourke', ',', 'Rachel', 'Ticotin', 'and', 'Giancarlo', 'Giannini', '.', 'But', 'it', 'is', 'Washington', 'and', 'the', 'delightful', 'Ms', '.', 'Fanning', 'who', 'steal', 'the', 'show.<br', '/><br', '/>\"Man', 'on', 'Fire', '\"', 'would', 'have', 'been', 'better', 'with', 'about', 'a', 'half', 'hour', 'taken', 'out', 'its', 'running', 'time', ',', 'but', 'this', 'is', 'still', 'a', 'better-than-average', 'crime', 'thriller', '.']\n",
            "tensor([    2,   799,   690,    22,    50,  1146,  2588,    18,    41,   369,\n",
            "          103,     2,     2,   540,    13,   725,    11,    41,  5139,   383,\n",
            "          266,   394,    91,   732,   203,   122,   253,    11,    13,   473,\n",
            "         1327,   472,     2,    17,   396,   151,   105,    77,     2,     2,\n",
            "          976,    91,   258,    38,    45,     2,    80,     2,    45,    55,\n",
            "           41,   268,  1182,  2285,    60,    15,  9466,    22,  2814,     6,\n",
            "           13, 11076, 11204,    34,    13,  5360,  2384,   394,    91,   162,\n",
            "           70,   449,  2814, 10892,    22,     2,    52,     2,     2,   841,\n",
            "           88,     2,    38,    41,  2795,     2,  6158,    64,   103,  2111,\n",
            "         5701,    13,  2195,    91,    55,  3299,    77,    78,    11,  7817,\n",
            "           50,    13,  9434,   582,  6744,    24,     2,   121,    38,   582,\n",
            "          356,   691,    50,  4799,    22,    41,  1692,    91,    13,     2,\n",
            "           91,   125,  1064,    12,    15,  1152,   105,   592,    24,     2,\n",
            "           13,   369,  2664,    38,     2,     2,   103,   356,     2,    28,\n",
            "           41,   891,    11,     2,  5075,    27,    13,  2016,    91,     2])\n",
            "\n",
            "Example label:\n",
            "pos\n",
            "tensor(1)\n"
          ]
        }
      ],
      "source": [
        "train_dataset = TextDataset(train_data, 'train', threshold=10, max_len=150)\n",
        "print('Vocab size:', train_dataset.vocab_size, '\\n')\n",
        "\n",
        "randidx = random.randint(0, len(train_dataset)-1)\n",
        "text, label = train_dataset[randidx]\n",
        "print('Example text:')\n",
        "print(train_data[randidx][1])\n",
        "print(text)\n",
        "print('\\nExample label:')\n",
        "print(train_data[randidx][0])\n",
        "print(label)"
      ]
    },
    {
      "cell_type": "markdown",
      "id": "56866c32",
      "metadata": {
        "id": "56866c32"
      },
      "source": [
        "---\n",
        "# Step 3: Train a Convolutional Neural Network (CNN)"
      ]
    },
    {
      "cell_type": "markdown",
      "id": "2bd3be29",
      "metadata": {
        "id": "2bd3be29"
      },
      "source": [
        "## Define the CNN Model\n",
        "Here I define my convolutional neural network for text classification."
      ]
    },
    {
      "cell_type": "code",
      "execution_count": 7,
      "id": "ecbb128c",
      "metadata": {
        "id": "ecbb128c"
      },
      "outputs": [],
      "source": [
        "import torch\n",
        "import torch.nn as nn\n",
        "import torch.nn.functional as F\n",
        "\n",
        "\n",
        "class CNN(nn.Module):\n",
        "    def __init__(self, vocab_size, embed_size, out_channels, filter_heights, stride, dropout, num_classes, pad_idx):\n",
        "        super(CNN, self).__init__()\n",
        "      \n",
        "        self.embedding = nn.Embedding(vocab_size, embed_size, pad_idx)\n",
        "        self.conv2ds = nn.ModuleList([nn.Conv2d(1, out_channels, kernel_size=(filter_height, embed_size), stride=stride) for filter_height in filter_heights])\n",
        "        self.dropout = nn.Dropout(p=dropout)\n",
        "        self.linear = nn.Linear(out_channels * len(self.conv2ds), num_classes)\n",
        "        self.relu = nn.ReLU()\n",
        "        \n",
        "\n",
        "    def forward(self, texts):\n",
        "        embeddings = self.embedding(texts)\n",
        "\n",
        "        embeddings = torch.unsqueeze(embeddings, 1)\n",
        "\n",
        "        outputs = []\n",
        "        for conv2d in self.conv2ds:\n",
        "            out = conv2d(embeddings)\n",
        "            out = torch.squeeze(out, 3)\n",
        "            out = self.relu(out)\n",
        "            out = torch.amax(out, dim=2)\n",
        "            outputs.append(out)\n",
        "        out = torch.cat(outputs, 1)\n",
        "        \n",
        "        out = self.dropout(out)\n",
        "\n",
        "        out = self.linear(out)\n",
        "\n",
        "        return out"
      ]
    },
    {
      "cell_type": "markdown",
      "id": "d10ab7b4",
      "metadata": {
        "id": "d10ab7b4"
      },
      "source": [
        "## Train CNN Model\n",
        "\n",
        "First, we initialize the train and test <b>dataloaders</b>. A dataloader is responsible for providing batches of data to the model."
      ]
    },
    {
      "cell_type": "code",
      "execution_count": 8,
      "id": "94aa67e9",
      "metadata": {
        "id": "94aa67e9"
      },
      "outputs": [],
      "source": [
        "THRESHOLD = 5\n",
        "MAX_LEN = 200\n",
        "BATCH_SIZE = 32\n",
        "\n",
        "train_dataset = TextDataset(train_data, 'train', THRESHOLD, MAX_LEN)\n",
        "train_loader = torch.utils.data.DataLoader(train_dataset, batch_size=BATCH_SIZE, shuffle=True, num_workers=2, drop_last=True)\n",
        "\n",
        "test_dataset = TextDataset(test_data, 'test', THRESHOLD, MAX_LEN, train_dataset.idx2word, train_dataset.word2idx)\n",
        "test_loader = torch.utils.data.DataLoader(test_dataset, batch_size=1, shuffle=False, num_workers=1, drop_last=False)"
      ]
    },
    {
      "cell_type": "code",
      "execution_count": 9,
      "id": "78ea3c12",
      "metadata": {
        "id": "78ea3c12"
      },
      "outputs": [],
      "source": [
        "from tqdm.notebook import tqdm\n",
        "\n",
        "\n",
        "def train_model(model, num_epochs, data_loader, optimizer, criterion):\n",
        "    print('Training Model...')\n",
        "    model.train()\n",
        "    \n",
        "    for epoch in tqdm(range(num_epochs)):\n",
        "        epoch_loss = 0\n",
        "        epoch_acc = 0\n",
        "        \n",
        "        for texts, labels in data_loader:\n",
        "            texts = texts.to(DEVICE)\n",
        "            labels = labels.to(DEVICE)\n",
        "\n",
        "            optimizer.zero_grad()\n",
        "\n",
        "            output = model(texts)\n",
        "            acc = accuracy(output, labels)\n",
        "            \n",
        "            loss = criterion(output, labels)\n",
        "            loss.backward()\n",
        "            optimizer.step()\n",
        "\n",
        "            epoch_loss += loss.item()\n",
        "            epoch_acc += acc.item()\n",
        "        print('[TRAIN]\\t Epoch: {:2d}\\t Loss: {:.4f}\\t Train Accuracy: {:.2f}%'.format(epoch+1, epoch_loss/len(data_loader), 100*epoch_acc/len(data_loader)))\n",
        "    print('Model Trained!\\n')"
      ]
    },
    {
      "cell_type": "markdown",
      "id": "7d2cdf43",
      "metadata": {
        "id": "7d2cdf43"
      },
      "source": [
        "Here are some other helper functions:"
      ]
    },
    {
      "cell_type": "code",
      "execution_count": 10,
      "id": "ce80f335",
      "metadata": {
        "id": "ce80f335"
      },
      "outputs": [],
      "source": [
        "def accuracy(output, labels):\n",
        "    preds = output.argmax(dim=1) # find predicted class\n",
        "    correct = (preds == labels).sum().float() # convert into float for division \n",
        "    acc = correct / len(labels)\n",
        "    return acc"
      ]
    },
    {
      "cell_type": "markdown",
      "id": "6276e70c",
      "metadata": {
        "id": "6276e70c"
      },
      "source": [
        "Now we can instantiate the model:"
      ]
    },
    {
      "cell_type": "code",
      "execution_count": 11,
      "id": "c19cc589",
      "metadata": {
        "colab": {
          "base_uri": "https://localhost:8080/"
        },
        "id": "c19cc589",
        "outputId": "67d0dbc1-184e-4179-ec96-51e70b5fa99f"
      },
      "outputs": [
        {
          "output_type": "stream",
          "name": "stdout",
          "text": [
            "The model has 3,879,746 trainable parameters\n"
          ]
        }
      ],
      "source": [
        "cnn_model = CNN(vocab_size = train_dataset.vocab_size,\n",
        "            embed_size = 128, \n",
        "            out_channels = 64, \n",
        "            filter_heights = [2, 3, 4], \n",
        "            stride = 1, \n",
        "            dropout = 0.5, \n",
        "            num_classes = 2,\n",
        "            pad_idx = train_dataset.word2idx[PAD])\n",
        "\n",
        "# Put your model on the device (cuda or cpu)\n",
        "cnn_model = cnn_model.to(DEVICE)\n",
        "\n",
        "count_parameters = lambda model: sum(p.numel() for p in model.parameters() if p.requires_grad)\n",
        "\n",
        "print('The model has {:,d} trainable parameters'.format(count_parameters(cnn_model)))"
      ]
    },
    {
      "cell_type": "markdown",
      "id": "d5bb140d",
      "metadata": {
        "id": "d5bb140d"
      },
      "source": [
        "Next, I create the **criterion**, which is our loss function: it is a measure of how well the model matches the empirical distribution of the data. I use cross-entropy loss (https://en.wikipedia.org/wiki/Cross_entropy).\n",
        "\n",
        "I also define the **optimizer**, which performs gradient descent. I use the Adam optimizer (https://arxiv.org/pdf/1412.6980.pdf), which has been shown to work well on these types of models."
      ]
    },
    {
      "cell_type": "code",
      "execution_count": 12,
      "id": "b8cafa14",
      "metadata": {
        "id": "b8cafa14"
      },
      "outputs": [],
      "source": [
        "import torch.optim as optim\n",
        "\n",
        "\n",
        "LEARNING_RATE = 5e-5\n",
        "\n",
        "criterion = nn.CrossEntropyLoss().to(DEVICE)\n",
        "\n",
        "optimizer = optim.Adam(cnn_model.parameters(), lr=LEARNING_RATE)"
      ]
    },
    {
      "cell_type": "markdown",
      "id": "863a4533",
      "metadata": {
        "id": "863a4533"
      },
      "source": [
        "Finally, we can train the model:"
      ]
    },
    {
      "cell_type": "code",
      "execution_count": 13,
      "id": "c89ccf93",
      "metadata": {
        "colab": {
          "base_uri": "https://localhost:8080/",
          "height": 448,
          "referenced_widgets": [
            "3585c26f98284d46b93c09409c79c89f",
            "17ee25dc5db04c81bf2389dfd409b67d",
            "cd2c9fa0e71a469ba8d3a82dd33ccb11",
            "952e6927dc6e420b82eac904045d2513",
            "2ad5893334ab430d94501e59822c5639",
            "d6fced789a584f1abe4aa60bc06ed2af",
            "ae5475d6f228439fb1f9e1a18b17c0d3",
            "a5021281756b4b0281f7bc24b78344cd",
            "c8ce0703b6804ae3881f8473b7e6d8d9",
            "efb2249d53744fa18b3218aa415213cb",
            "b156d267cb9b4f65a3611faa9c551d23"
          ]
        },
        "id": "c89ccf93",
        "outputId": "23496fec-0fdb-46ea-d25b-2c584e7b990c"
      },
      "outputs": [
        {
          "output_type": "stream",
          "name": "stdout",
          "text": [
            "Training Model...\n"
          ]
        },
        {
          "output_type": "display_data",
          "data": {
            "text/plain": [
              "  0%|          | 0/20 [00:00<?, ?it/s]"
            ],
            "application/vnd.jupyter.widget-view+json": {
              "version_major": 2,
              "version_minor": 0,
              "model_id": "3585c26f98284d46b93c09409c79c89f"
            }
          },
          "metadata": {}
        },
        {
          "output_type": "stream",
          "name": "stdout",
          "text": [
            "[TRAIN]\t Epoch:  1\t Loss: 0.8042\t Train Accuracy: 51.77%\n",
            "[TRAIN]\t Epoch:  2\t Loss: 0.7418\t Train Accuracy: 54.34%\n",
            "[TRAIN]\t Epoch:  3\t Loss: 0.6919\t Train Accuracy: 57.98%\n",
            "[TRAIN]\t Epoch:  4\t Loss: 0.6607\t Train Accuracy: 61.27%\n",
            "[TRAIN]\t Epoch:  5\t Loss: 0.6308\t Train Accuracy: 64.17%\n",
            "[TRAIN]\t Epoch:  6\t Loss: 0.6082\t Train Accuracy: 66.86%\n",
            "[TRAIN]\t Epoch:  7\t Loss: 0.5900\t Train Accuracy: 67.91%\n",
            "[TRAIN]\t Epoch:  8\t Loss: 0.5757\t Train Accuracy: 69.58%\n",
            "[TRAIN]\t Epoch:  9\t Loss: 0.5600\t Train Accuracy: 71.25%\n",
            "[TRAIN]\t Epoch: 10\t Loss: 0.5447\t Train Accuracy: 71.94%\n",
            "[TRAIN]\t Epoch: 11\t Loss: 0.5366\t Train Accuracy: 72.97%\n",
            "[TRAIN]\t Epoch: 12\t Loss: 0.5256\t Train Accuracy: 73.35%\n",
            "[TRAIN]\t Epoch: 13\t Loss: 0.5154\t Train Accuracy: 74.60%\n",
            "[TRAIN]\t Epoch: 14\t Loss: 0.5043\t Train Accuracy: 75.12%\n",
            "[TRAIN]\t Epoch: 15\t Loss: 0.4988\t Train Accuracy: 75.55%\n",
            "[TRAIN]\t Epoch: 16\t Loss: 0.4916\t Train Accuracy: 75.77%\n",
            "[TRAIN]\t Epoch: 17\t Loss: 0.4853\t Train Accuracy: 76.56%\n",
            "[TRAIN]\t Epoch: 18\t Loss: 0.4770\t Train Accuracy: 76.94%\n",
            "[TRAIN]\t Epoch: 19\t Loss: 0.4690\t Train Accuracy: 77.45%\n",
            "[TRAIN]\t Epoch: 20\t Loss: 0.4643\t Train Accuracy: 77.89%\n",
            "Model Trained!\n",
            "\n"
          ]
        }
      ],
      "source": [
        "N_EPOCHS = 20 \n",
        "\n",
        "train_model(cnn_model, N_EPOCHS, train_loader, optimizer, criterion)"
      ]
    },
    {
      "cell_type": "markdown",
      "id": "f0bd1faa",
      "metadata": {
        "id": "f0bd1faa"
      },
      "source": [
        "## Evaluate CNN Model \n",
        "\n",
        "Now that we have trained a model for text classification, it is time to evaluate it."
      ]
    },
    {
      "cell_type": "code",
      "execution_count": 14,
      "id": "acd052ee",
      "metadata": {
        "id": "acd052ee"
      },
      "outputs": [],
      "source": [
        "import random\n",
        "\n",
        " \n",
        "def evaluate(model, data_loader, criterion, use_tqdm=False):\n",
        "    print('Evaluating performance on the test dataset...')\n",
        "    model.eval()\n",
        "    epoch_loss = 0\n",
        "    epoch_acc = 0\n",
        "    all_predictions = []\n",
        "    print(\"\\nSOME PREDICTIONS FROM THE MODEL:\")\n",
        "    iterator = tqdm(data_loader) if use_tqdm else data_loader\n",
        "    total = 0\n",
        "    \n",
        "    for texts, labels in iterator:\n",
        "        bs = texts.shape[0]\n",
        "        total += bs\n",
        "        texts = texts.to(DEVICE)\n",
        "        labels = labels.to(DEVICE)\n",
        "        \n",
        "        output = model(texts)\n",
        "        acc = accuracy(output, labels) * len(labels)\n",
        "        pred = output.argmax(dim=1)\n",
        "        all_predictions.append(pred)\n",
        "        \n",
        "        loss = criterion(output, labels) * len(labels)\n",
        "        \n",
        "        epoch_loss += loss.item()\n",
        "        epoch_acc += acc.item()\n",
        "\n",
        "        if random.random() < 0.0015 and bs == 1:\n",
        "            print(\"Input: \"+' '.join([data_loader.dataset.idx2word[idx] for idx in texts[0].tolist() if idx not in {data_loader.dataset.word2idx[PAD], data_loader.dataset.word2idx[END]}]))\n",
        "            print(\"Prediction:\", pred.item(), '\\tCorrect Output:', labels.item(), '\\n')\n",
        "\n",
        "    full_acc = 100*epoch_acc/total\n",
        "    full_loss = epoch_loss/total\n",
        "    print('[TEST]\\t Loss: {:.4f}\\t Accuracy: {:.2f}%'.format(full_loss, full_acc))\n",
        "    predictions = torch.cat(all_predictions)\n",
        "    return predictions, full_acc, full_loss"
      ]
    },
    {
      "cell_type": "code",
      "execution_count": 15,
      "id": "29b0f6e2",
      "metadata": {
        "colab": {
          "base_uri": "https://localhost:8080/",
          "height": 625,
          "referenced_widgets": [
            "1bdf587971bf48a5985c9ed88f5d3f3a",
            "f4a277b6719a4d99a00800c30d17f494",
            "db714ee1da044142ad7bb7cdb010b40c",
            "fad226fc2f4e46d7b612d2e5282309b6",
            "aae4070117e1454fab3926b15a74a602",
            "2e4f1c498c11419593d6e15e61688d13",
            "c029f41aba024cfa8df4b0a9f18debf8",
            "7b197c9e194c484d94b29a5ebde08eee",
            "3ddb54fae20f4678be8c7700e17ab1a8",
            "fef8961a0be34d52b477b939038901b4",
            "877cefefeb1f4261afdfdf2e0655b355"
          ]
        },
        "id": "29b0f6e2",
        "outputId": "e73a8588-6fde-4b09-a6cf-e4f7c7000d72"
      },
      "outputs": [
        {
          "output_type": "stream",
          "name": "stdout",
          "text": [
            "Evaluating performance on the test dataset...\n",
            "\n",
            "SOME PREDICTIONS FROM THE MODEL:\n"
          ]
        },
        {
          "output_type": "display_data",
          "data": {
            "text/plain": [
              "  0%|          | 0/5000 [00:00<?, ?it/s]"
            ],
            "application/vnd.jupyter.widget-view+json": {
              "version_major": 2,
              "version_minor": 0,
              "model_id": "1bdf587971bf48a5985c9ed88f5d3f3a"
            }
          },
          "metadata": {}
        },
        {
          "output_type": "stream",
          "name": "stdout",
          "text": [
            "Input: <UNK> about <UNK> <UNK> <UNK> double <UNK> operation which is believed to have sparked off his obsession with the inner workings of the human body ? <UNK> about \" infinity <UNK> ? - <UNK> game he invented as a child which involved stick men being annihilated when they came too close to one another , suggesting that intimacy was the ultimate danger . <UNK> about the relationship between his parents , and the emotional problems of his mother that were far more relevant than just his own relationship with his father ? <UNK> feelings of neglect when his brother was born ? <UNK> about his fascination with insects and animals ? <UNK> he would dissect roadkill and hang it up in the woods behind his <UNK> about focusing more on his cannibalism ? <UNK> what about his parent's divorce ? <UNK> are all things that should have been included in the film . <UNK> the film maker chose to give us a watered down ' snapshot ' from a night or two in his life , and combine it with series of confusing and at times unnecessary flashbacks , to events that weren't even particularly relevant to our understanding of\n",
            "Prediction: 0 \tCorrect Output: 0 \n",
            "\n",
            "Input: <UNK> is not a good movie . <UNK> preachy in parts and the story line was sub par . <UNK> <UNK> was <UNK> , but not superb . <UNK> almost fell asleep in this movie.<br /><br <UNK> story is about 3 young flies that want to have adventure and follow up on it . <UNK> characters are lacking , <UNK> truly do not care about these characters and feel that there was nothing to keep an adult interested . <UNK> this is not.<br /><br <UNK> would have liked to see more special <UNK> effects . <UNK> <UNK> <UNK> like to see more fly jokes than the mom constantly saying \" <UNK> of the flies \" <UNK> sexist in showing the women as house wives and fainting .\n",
            "Prediction: 0 \tCorrect Output: 0 \n",
            "\n",
            "Input: - <UNK> small time hood tricks the local mob boss out of a lot of money . <UNK> course the mob boss wants his money back and doesn't care who he has to kill to get it . <UNK> punk enlists his friend and an old mobster to help him save his life.<br /><br />- <UNK> this sounds ridiculous , it is . <UNK> whole idea that this <UNK> , dune <UNK> punk could hold off one of the most powerful <UNK> in <UNK> is just plain silly . <UNK> friend may be good with a gun , but he's up against a group of trained killers . <UNK> old mobster is little more than comic relief and no real help when it comes to the face off with the mob . <UNK> also a sub-plot about how the friend's father was killed years ago by the mob boss , but there's little made of it and it doesn't help the movie any at all.<br /><br />- <UNK> mob boss , <UNK> <UNK> , is played by <UNK> <UNK> . <UNK> suppose he got the name because he has what looks like a shaving nick on his cheek . <UNK>\n",
            "Prediction: 0 \tCorrect Output: 0 \n",
            "\n",
            "Input: <UNK> , <UNK> wrote that <UNK> loved \" <UNK> , cried at its ending ( many times <UNK> , and <UNK> a guy in his 60's . <UNK> also wondered about why this great movie , which won so many awards and was applauded by so many critics , was given only a 7.0 rating by imdb.com <UNK> /><br <UNK> , <UNK> looked at the breakdown of the user ratings . <UNK> <UNK> of all votes gave it a 10 rating , <UNK> gave it a 1 rating . <UNK> <UNK> of these irrational imdb users , in effect , pulled the overall rating down to 7.0 . <br /><br <UNK> my previous comments , <UNK> blamed this very unusual voting pattern ( a sudden surge in 1 ratings , with a high 10 rating , dropping only gradually and then suddenly <UNK> course and jumping at the 1 rating level ) on only one thing : hatred for <UNK> <UNK> . <UNK> me , <UNK> tuned into enough chat rooms to see the banter by young people ( young men , <UNK> , who <UNK> him left and right . <UNK> absolutely hate the man , and they will\n",
            "Prediction: 1 \tCorrect Output: 1 \n",
            "\n",
            "Input: <UNK> entertaining period piece set in the 30s , it is a spin on the classic cliffhanger series , as much as \" <UNK> of the <UNK> <UNK> , only done on a low budget and much <UNK> by director <UNK> <UNK> . <UNK> opening scenes <UNK> liberal amount of gothic art <UNK> , <UNK> <UNK> by two decades . <UNK> <UNK> <UNK> ( <UNK> ) as a perfectly cast hero and the gorgeous <UNK> <UNK> as the local latina <UNK> tagging on to our hero on a <UNK> in the non-existent latin american country of <UNK> . <UNK> line , our hero to <UNK> , holding a fist to her chin just as you expect him to be tender with her and give her a hug : \" <UNK> , you're a <UNK> /><br <UNK> <UNK> <UNK> <UNK> , <UNK> <UNK> is a an absolute delight . <UNK> a little \" <UNK> , a dash of \" <UNK> , a little \" <UNK> <UNK> <UNK> , a little \" <UNK> <UNK> \" and a whole lot of campiness and you'll get it just right . <UNK> out for cult favorite <UNK> <UNK> in a small part as undertaker and\n",
            "Prediction: 1 \tCorrect Output: 1 \n",
            "\n",
            "Input: <UNK> first saw this movie when <UNK> was a little kid and fell in love with it at once . <UNK> sets are breath taking and some of the script is damn right hilarious : \" <UNK> sons of a thousand <UNK> /><br <UNK> is always shown on <UNK> late at night or really early in the morning i woke up at about <UNK> am once and it had just started . <UNK> <UNK> need to show a little more respect and put it on prime time <UNK> so everyone can get a chance to view this fine work.<br /><br />10/10\n",
            "Prediction: 1 \tCorrect Output: 1 \n",
            "\n",
            "Input: \" <UNK> \" hosted by <UNK> <UNK> , presents footage from outside and inside the <UNK> <UNK> in <UNK> <UNK> , on <UNK> 11 , <UNK> /><br <UNK> too grisly and gory , yet powerful and moving . \" 9/11 \" is a real treat . <UNK> not moved by this television show is immune to anything.<br /><br <UNK> stars <UNK> /><br />\n",
            "Prediction: 1 \tCorrect Output: 1 \n",
            "\n",
            "Input: <UNK> concerns a young woman in <UNK> desperate for a job , happy to accept <UNK> <UNK> position with an elderly woman and her son . <UNK> about people being held in a house against their will always make me a little <UNK> end up feeling like a prisoner <UNK> this rather classy <UNK> is neither lurid nor claustrophobic . <UNK> far-fetched and unlikely , but not uninteresting , and our heroine ( <UNK> <UNK> ) is quick on her feet . <UNK> this in 1986 ( as \" <UNK> <UNK> <UNK> ) proved not to be wise , as the <UNK> are not of the modern-day . \" <UNK> <UNK> \" is extremely compact ( too short at 65 <UNK> ) but it stays the course nicely until a <UNK> climax , which feels a little sloppy . *** from ****\n",
            "Prediction: 1 \tCorrect Output: 1 \n",
            "\n",
            "Input: ' <UNK> <UNK> ' is one of the best horror movies already made in the movie's <UNK> ! <UNK> think it is very scary as very few movies actually are . <UNK> <UNK> is a model with some fame . <UNK> dates a lawyer called <UNK> <UNK> , and has as a best friend , another model called <UNK> . <UNK> was great in her life , until she decides to live alone for some time and rents a beautiful and old apartment.<br /><br <UNK> problem are her neighbors , who are very , <UNK> strange . <UNK> <UNK> starts to have health problems and faints with frequency ; <UNK> also remembers some painful facts about her past that makes her have nightmares or illusions . <UNK> everything has a reason , and it has to do with the new house she is <UNK> /><br <UNK> personally find ' <UNK> <UNK> ' a very creepy movie , and along with ' <UNK> <UNK> ' they are two of the scariest movies <UNK> already watched . <UNK> we discover that <UNK> house is only occupied by the priest and herself my blood <UNK> ! <UNK> also horrible to see that she\n",
            "Prediction: 1 \tCorrect Output: 1 \n",
            "\n",
            "[TEST]\t Loss: 0.4446\t Accuracy: 79.16%\n"
          ]
        },
        {
          "output_type": "execute_result",
          "data": {
            "text/plain": [
              "(tensor([0, 0, 0,  ..., 0, 1, 1], device='cuda:0'), 79.16, 0.44462695379832295)"
            ]
          },
          "metadata": {},
          "execution_count": 15
        }
      ],
      "source": [
        "evaluate(cnn_model, test_loader, criterion, use_tqdm=True) # Compute test data accuracy"
      ]
    },
    {
      "cell_type": "markdown",
      "id": "606d0d46",
      "metadata": {
        "id": "606d0d46"
      },
      "source": [
        "---\n",
        "# Step 4: Train a Recurrent Neural Network (RNN)\n",
        "I will now build a text clasification model that is based on **recurrences**."
      ]
    },
    {
      "cell_type": "markdown",
      "id": "890a118f",
      "metadata": {
        "id": "890a118f"
      },
      "source": [
        "## Define the RNN Model\n",
        "\n",
        "First, I will define the RNN:"
      ]
    },
    {
      "cell_type": "code",
      "execution_count": 16,
      "id": "f68deae9",
      "metadata": {
        "id": "f68deae9"
      },
      "outputs": [],
      "source": [
        "class RNN(nn.Module):\n",
        "    def __init__(self, vocab_size, embed_size, hidden_size, num_layers, bidirectional, dropout, num_classes, pad_idx):\n",
        "        super(RNN, self).__init__()\n",
        "        \n",
        "        self.hidden_size = hidden_size\n",
        "        self.num_layers = num_layers\n",
        "        self.bidirectional = bidirectional\n",
        "\n",
        "        self.embedding = nn.Embedding(vocab_size, embed_size, pad_idx)\n",
        "        self.gru = nn.GRU(embed_size, hidden_size, num_layers, batch_first=True, dropout=dropout, bidirectional=bidirectional)\n",
        "        self.dropout = nn.Dropout(p=dropout)\n",
        "\n",
        "        if bidirectional:\n",
        "            self.linear = nn.Linear(hidden_size*2, num_classes)\n",
        "        else:\n",
        "            self.linear = nn.Linear(hidden_size, num_classes)\n",
        "\n",
        "\n",
        "    def forward(self, texts):\n",
        "        D = 2 if self.bidirectional else 1\n",
        "        batch_size, max_len = list(texts.size())\n",
        "        \n",
        "        embeddings = self.embedding(texts)\n",
        "        \n",
        "        h0 = torch.zeros(self.num_layers * D, batch_size, self.hidden_size, device=texts.device)\n",
        "        out, hid = self.gru(embeddings, h0)\n",
        "        \n",
        "        if self.bidirectional:\n",
        "            out = torch.cat((hid[-2,:,:], hid[-1,:,:]), dim = 1)\n",
        "        else:\n",
        "            out = hid[-1,:,:]\n",
        "\n",
        "        out = self.dropout(out)\n",
        "        out = self.linear(out)\n",
        "\n",
        "        return out"
      ]
    },
    {
      "cell_type": "markdown",
      "id": "c6649b2a",
      "metadata": {
        "id": "c6649b2a"
      },
      "source": [
        "## Train RNN Model\n",
        "First, we initialize the train and test dataloaders:"
      ]
    },
    {
      "cell_type": "code",
      "execution_count": 17,
      "id": "7c52d75b",
      "metadata": {
        "id": "7c52d75b"
      },
      "outputs": [],
      "source": [
        "THRESHOLD = 5 \n",
        "MAX_LEN = 200 \n",
        "BATCH_SIZE = 32 \n",
        "\n",
        "train_dataset = TextDataset(train_data, 'train', THRESHOLD, MAX_LEN)\n",
        "train_loader = torch.utils.data.DataLoader(train_dataset, batch_size=BATCH_SIZE, shuffle=True, num_workers=2, drop_last=True)\n",
        "\n",
        "test_dataset = TextDataset(test_data, 'test', THRESHOLD, MAX_LEN, train_dataset.idx2word, train_dataset.word2idx)\n",
        "test_loader = torch.utils.data.DataLoader(test_dataset, batch_size=1, shuffle=False, num_workers=1, drop_last=False)"
      ]
    },
    {
      "cell_type": "markdown",
      "id": "c1c04424",
      "metadata": {
        "id": "c1c04424"
      },
      "source": [
        "Now I can instantiate the model:"
      ]
    },
    {
      "cell_type": "code",
      "execution_count": 18,
      "id": "4bc2e61d",
      "metadata": {
        "colab": {
          "base_uri": "https://localhost:8080/"
        },
        "id": "4bc2e61d",
        "outputId": "c44e6855-4008-46f5-b68f-636a14656963"
      },
      "outputs": [
        {
          "output_type": "stream",
          "name": "stdout",
          "text": [
            "The model has 4,300,546 trainable parameters\n"
          ]
        }
      ],
      "source": [
        "rnn_model = RNN(vocab_size = train_dataset.vocab_size,\n",
        "            embed_size = 128, \n",
        "            hidden_size = 128, \n",
        "            num_layers = 2,\n",
        "            bidirectional = True,\n",
        "            dropout = 0.5,\n",
        "            num_classes = 2,\n",
        "            pad_idx = train_dataset.word2idx[PAD])\n",
        "\n",
        "rnn_model = rnn_model.to(DEVICE)\n",
        "\n",
        "print('The model has {:,d} trainable parameters'.format(count_parameters(rnn_model)))"
      ]
    },
    {
      "cell_type": "markdown",
      "id": "4aa94a9d",
      "metadata": {
        "id": "4aa94a9d"
      },
      "source": [
        "Here, we create the criterion and optimizer; as with the CNN, I use cross-entropy loss and Adam optimization:"
      ]
    },
    {
      "cell_type": "code",
      "execution_count": 19,
      "id": "a1412d04",
      "metadata": {
        "id": "a1412d04"
      },
      "outputs": [],
      "source": [
        "LEARNING_RATE = 5e-4 \n",
        "\n",
        "criterion = nn.CrossEntropyLoss().to(DEVICE)\n",
        "\n",
        "optimizer = optim.Adam(rnn_model.parameters(), lr=LEARNING_RATE)"
      ]
    },
    {
      "cell_type": "markdown",
      "id": "3f2e4c5e",
      "metadata": {
        "id": "3f2e4c5e"
      },
      "source": [
        "Finally, we can train the model. I use the same `train_model(...)` function that I defined for the CNN:"
      ]
    },
    {
      "cell_type": "code",
      "execution_count": 20,
      "id": "1f26f726",
      "metadata": {
        "colab": {
          "base_uri": "https://localhost:8080/",
          "height": 309,
          "referenced_widgets": [
            "6fee700930604ebebaac90ff22ccea55",
            "f76a10e8a3ab49f5bb836232e8b12921",
            "dc1e37a5891e4dc38d4effc907c4a240",
            "f26b4f5869af4f5abd2fdbe526e4a280",
            "d9a56c00ef8b4148a3607725881a1790",
            "18079588c12246f889613104829225f5",
            "97a6b71bf4464d3689a184cd6d717237",
            "1fbdd1a0f5154f58b0f009601a2821a6",
            "b1935165785c491b819bf61e22e0943e",
            "e9d98bd7ad6348c5ab48839a2733252f",
            "2f81478efd2f490ab6138fd8da2c7f1c"
          ]
        },
        "id": "1f26f726",
        "outputId": "db3d7918-158a-4cc2-9898-a4345d862f7c"
      },
      "outputs": [
        {
          "output_type": "stream",
          "name": "stdout",
          "text": [
            "Training Model...\n"
          ]
        },
        {
          "output_type": "display_data",
          "data": {
            "text/plain": [
              "  0%|          | 0/12 [00:00<?, ?it/s]"
            ],
            "application/vnd.jupyter.widget-view+json": {
              "version_major": 2,
              "version_minor": 0,
              "model_id": "6fee700930604ebebaac90ff22ccea55"
            }
          },
          "metadata": {}
        },
        {
          "output_type": "stream",
          "name": "stdout",
          "text": [
            "[TRAIN]\t Epoch:  1\t Loss: 0.6665\t Train Accuracy: 58.33%\n",
            "[TRAIN]\t Epoch:  2\t Loss: 0.5243\t Train Accuracy: 74.38%\n",
            "[TRAIN]\t Epoch:  3\t Loss: 0.3746\t Train Accuracy: 83.86%\n",
            "[TRAIN]\t Epoch:  4\t Loss: 0.2839\t Train Accuracy: 88.52%\n",
            "[TRAIN]\t Epoch:  5\t Loss: 0.2201\t Train Accuracy: 91.66%\n",
            "[TRAIN]\t Epoch:  6\t Loss: 0.1583\t Train Accuracy: 94.33%\n",
            "[TRAIN]\t Epoch:  7\t Loss: 0.1053\t Train Accuracy: 96.30%\n",
            "[TRAIN]\t Epoch:  8\t Loss: 0.0656\t Train Accuracy: 97.89%\n",
            "[TRAIN]\t Epoch:  9\t Loss: 0.0498\t Train Accuracy: 98.42%\n",
            "[TRAIN]\t Epoch: 10\t Loss: 0.0370\t Train Accuracy: 98.84%\n",
            "[TRAIN]\t Epoch: 11\t Loss: 0.0266\t Train Accuracy: 99.12%\n",
            "[TRAIN]\t Epoch: 12\t Loss: 0.0285\t Train Accuracy: 99.04%\n",
            "Model Trained!\n",
            "\n"
          ]
        }
      ],
      "source": [
        "N_EPOCHS = 12 \n",
        "\n",
        "train_model(rnn_model, N_EPOCHS, train_loader, optimizer, criterion)"
      ]
    },
    {
      "cell_type": "markdown",
      "id": "bd30f8be",
      "metadata": {
        "id": "bd30f8be"
      },
      "source": [
        "## Evaluate RNN Model\n",
        "Now we can evaluate the RNN."
      ]
    },
    {
      "cell_type": "code",
      "execution_count": 21,
      "id": "dcc78c91",
      "metadata": {
        "colab": {
          "base_uri": "https://localhost:8080/",
          "height": 520,
          "referenced_widgets": [
            "e9419cf6b2604c58bbd2eaa4b9de7a8f",
            "4f3cc8b03b964cd384be8f7fa108948f",
            "f76a9e78610e40028fe28b9de52d998d",
            "3890635bd28a4d8b9b82ebb5d0fa3bd2",
            "adc06d935c5a47de88b77d2a4f97d479",
            "0ef495857fcb4052b2e320938a3e1857",
            "ba32911015514a10a358a039134ce6f5",
            "7cb5139e083748a0a09bc068fd972833",
            "adadeb4e905242c985e914eaadbc35f7",
            "509fa60b69154bed94f7596b72b0527d",
            "bc4b2c3c08f04ab4bdef0426196c8da9"
          ]
        },
        "id": "dcc78c91",
        "outputId": "cda44b80-2729-4e99-b48f-8f1dbcf2b557"
      },
      "outputs": [
        {
          "output_type": "stream",
          "name": "stdout",
          "text": [
            "Evaluating performance on the test dataset...\n",
            "\n",
            "SOME PREDICTIONS FROM THE MODEL:\n"
          ]
        },
        {
          "output_type": "display_data",
          "data": {
            "text/plain": [
              "  0%|          | 0/5000 [00:00<?, ?it/s]"
            ],
            "application/vnd.jupyter.widget-view+json": {
              "version_major": 2,
              "version_minor": 0,
              "model_id": "e9419cf6b2604c58bbd2eaa4b9de7a8f"
            }
          },
          "metadata": {}
        },
        {
          "output_type": "stream",
          "name": "stdout",
          "text": [
            "Input: <UNK> was fascinated as to how truly bad this movie was . <UNK> the viewer supposed to learn something , or reflect on anything here ? <UNK> was up with the <UNK> ? <UNK> <UNK> supposed to be impressed with the motel shots ? <UNK> it matter that there are some garbage bags on a rooftop across the street of a hotel ? <UNK> does the narrator unsuccessfully mock the people he interviews ( it is so obvious that he edited out the really informative parts of his interviews to achieve <UNK> . <UNK> best part of the movie was the interview with the film professor who tells us how bad this movie will be even before it is <UNK> /><br <UNK> am truly amazed . <UNK> believe that the creator is struggling to become an intellectual or is trying to impress the intellectual community .\n",
            "Prediction: 0 \tCorrect Output: 0 \n",
            "\n",
            "Input: <UNK> main comment on this movie is how <UNK> was able to get credible actors to work on this movie ? <UNK> cast  even for the supporting characters , none of which helps this movie really . <UNK> have to admit though , <UNK> <UNK> cameo almost made it worth it  what was that about <UNK> ? <UNK> you lose a bet ? <UNK> best cameo of the movie was <UNK> <UNK> though - by far a classic ! <UNK> premise is good . <UNK> character , struggling with existence as a <UNK> <UNK> , is making her way toward <UNK> motel by motel pitching the glorious pyramid of cosmetic sales . <UNK> happens as <UNK> character is on his way to <UNK> to deliver an <UNK> suit to his soon to be ex-wife motivated <UNK> <UNK> . <UNK> they both make their way , they have numerous <UNK> with <UNK> <UNK> who on their way to an <UNK> impersonating convention in <UNK> . <UNK> , the <UNK> gets involved and begins to track what they think is an <UNK> impersonator serial killer . <UNK> , premise doesn't mean the movie was good.<br /><br <UNK> watching this movie\n",
            "Prediction: 0 \tCorrect Output: 0 \n",
            "\n",
            "Input: <UNK> you are between the ages of 10 and 14 ( except for the <UNK> <UNK> , there are very few things to like here . <UNK> or two lines from <UNK> <UNK> , <UNK> <UNK> ( we really should see him more ) and <UNK> <UNK> are humorous and <UNK> <UNK> is as good as she can be considering her surroundings , but sadly , that's it . <UNK> plot . <UNK> acting . <UNK> writing and delivery . <UNK> special effects are dismal . <UNK> much as the entire situation is an odd and awful joke , the significant individual embedded situations are all equally terrible . <UNK> we consider the action portions , well there are unbelievable action sequences in some films that make you giddy and there are some that make you groan . <UNK> movie only contains the latter kind . <UNK> leaves little left . <UNK> so glad <UNK> did not pay for this.<br /><br <UNK> any hype , <UNK> can read and think , so as <UNK> sat down to watch , <UNK> did not expect anything good . <UNK> had no expectations , but was somewhat worried going in . <UNK> ,\n",
            "Prediction: 0 \tCorrect Output: 0 \n",
            "\n",
            "Input: <UNK> , how bad can it get . <UNK> was seriously bad . <UNK> in terms of the gore - which was mainly laughable <UNK> - but in acting , atmosphere and direction.<br /><br <UNK> story was dreadful - the character arc of the main lead was a total joke . <UNK> a few nights of stalking <UNK> <UNK> , he starts to become ' haunted ' to the point of crying when photographing his girlfriend . <UNK> . are all <UNK> <UNK> photographers this childish , <UNK> and weak ? <UNK> character development had absolutely no justification or point whatsoever - and by the very end you'll be laughing out loud at the utterly predictable , and totally absurd twist his character <UNK> /><br <UNK> gory moments were clearly just a weak , <UNK> effort to jump onto the modern <UNK> style gore wagon - all cgi , blood yet no real emotion whatsoever . <UNK> parts were unintentionally funny - and distracting by their self-consciousness - wacky camera angles etc.<br /><br <UNK> this film commits the crime of blowing another potential idea . <UNK> could have had atmosphere ( until the stupid monsters at the end ) is\n",
            "Prediction: 0 \tCorrect Output: 0 \n",
            "\n",
            "Input: <UNK> <UNK> <UNK> on , why couldn't they have dressed as <UNK> <UNK> , oh yeah , they wouldn't look different at all . <UNK> anyone give me one <UNK> movie where they haven't dressed up as ladies ? <UNK> <UNK> <UNK> <UNK> doesn't count , <UNK> <UNK> and <UNK> <UNK> ghost wrote that ( the other <UNK> <UNK> members acted as <UNK> /><br <UNK> <UNK> <UNK> , there's never really any jokes . <UNK> just the <UNK> acting like girls for 2 hours . <UNK> no setups , no <UNK> and no laughs . <UNK> is a lot of \" <UNK> think <UNK> gonna play some <UNK> <UNK> 3. \" <UNK> least for me there was ( 5 times to be <UNK> /><br <UNK> has to tell <UNK> <UNK> , <UNK> , <UNK> , <UNK> , <UNK> ( the only talented one) , <UNK> , <UNK> , <UNK> <UNK> , and <UNK> <UNK> <UNK> to stop making movies . <UNK> only hurting the <UNK> <UNK> /><br <UNK> <UNK> out of ****\n",
            "Prediction: 0 \tCorrect Output: 0 \n",
            "\n",
            "Input: <UNK> starts out as a very predictable and somewhat drab affair is in the end quite hilarious and entertaining . \" <UNK> to <UNK> \" is not very suspenseful but it more than makes up for that with some outlandish set pieces and over the top gore.<br /><br <UNK> here : <br /><br <UNK> credits also go to the dead-on performance from <UNK> <UNK> as one of the most despicable characters ever to grace the screen . <UNK> the character in a great \" aloof \" fashion , you nearly feel bad for the guy in the end when his grand plan ultimately fails . <UNK> <UNK> also chews up the scenery playing a <UNK> who gets his just <UNK> /><br <UNK> of <UNK> /><br <UNK> a <UNK> flick , \" <UNK> to <UNK> \" benefits heavily from it's performers and is more than an <UNK> way to spend less than an hour .\n",
            "Prediction: 0 \tCorrect Output: 1 \n",
            "\n",
            "Input: <UNK> do <UNK> ever encounter a film so completely fulfilling that <UNK> must speak about it immediately . <UNK> movie is definitely some of the finest entertainment available and it is highly authentic . <UNK> happened to see the dubbed version but <UNK> on my way right now to grab the <UNK> <UNK> with original <UNK> dialogue . <UNK> , the dubbing didn't get in the way and sometimes provided some seriously funny humour : \" <UNK> <UNK> rocks the <UNK> /><br <UNK> story-telling stays true to <UNK> methods of intrigue , suspense , and <UNK> relationships . <UNK> can expect twists and turns as the identities of the 5 <UNK> are revealed and an expert <UNK> /><br <UNK> martial arts fight choreography is in a class of its own and must be seen to be believed . <UNK> like watching real animals fight each other , but <UNK> from their own arcane martial arts forms . <UNK> level of skill amongst the cast is unsurpassed in modern day cinema.<br /><br <UNK> combination provides for a serious dose of old <UNK> culture and <UNK> recommend it solely on the basis of the film's genuine intent to tell a martial arts\n",
            "Prediction: 1 \tCorrect Output: 1 \n",
            "\n",
            "[TEST]\t Loss: 0.9718\t Accuracy: 81.58%\n"
          ]
        },
        {
          "output_type": "execute_result",
          "data": {
            "text/plain": [
              "(tensor([0, 0, 0,  ..., 1, 0, 1], device='cuda:0'), 81.58, 0.9718203727527216)"
            ]
          },
          "metadata": {},
          "execution_count": 21
        }
      ],
      "source": [
        "evaluate(rnn_model, test_loader, criterion, use_tqdm=True) # Compute test data accuracy"
      ]
    }
  ],
  "metadata": {
    "kernelspec": {
      "display_name": "Python 3",
      "language": "python",
      "name": "python3"
    },
    "language_info": {
      "codemirror_mode": {
        "name": "ipython",
        "version": 3
      },
      "file_extension": ".py",
      "mimetype": "text/x-python",
      "name": "python",
      "nbconvert_exporter": "python",
      "pygments_lexer": "ipython3",
      "version": "3.7.9"
    },
    "colab": {
      "provenance": []
    },
    "accelerator": "GPU",
    "widgets": {
      "application/vnd.jupyter.widget-state+json": {
        "3585c26f98284d46b93c09409c79c89f": {
          "model_module": "@jupyter-widgets/controls",
          "model_name": "HBoxModel",
          "model_module_version": "1.5.0",
          "state": {
            "_dom_classes": [],
            "_model_module": "@jupyter-widgets/controls",
            "_model_module_version": "1.5.0",
            "_model_name": "HBoxModel",
            "_view_count": null,
            "_view_module": "@jupyter-widgets/controls",
            "_view_module_version": "1.5.0",
            "_view_name": "HBoxView",
            "box_style": "",
            "children": [
              "IPY_MODEL_17ee25dc5db04c81bf2389dfd409b67d",
              "IPY_MODEL_cd2c9fa0e71a469ba8d3a82dd33ccb11",
              "IPY_MODEL_952e6927dc6e420b82eac904045d2513"
            ],
            "layout": "IPY_MODEL_2ad5893334ab430d94501e59822c5639"
          }
        },
        "17ee25dc5db04c81bf2389dfd409b67d": {
          "model_module": "@jupyter-widgets/controls",
          "model_name": "HTMLModel",
          "model_module_version": "1.5.0",
          "state": {
            "_dom_classes": [],
            "_model_module": "@jupyter-widgets/controls",
            "_model_module_version": "1.5.0",
            "_model_name": "HTMLModel",
            "_view_count": null,
            "_view_module": "@jupyter-widgets/controls",
            "_view_module_version": "1.5.0",
            "_view_name": "HTMLView",
            "description": "",
            "description_tooltip": null,
            "layout": "IPY_MODEL_d6fced789a584f1abe4aa60bc06ed2af",
            "placeholder": "​",
            "style": "IPY_MODEL_ae5475d6f228439fb1f9e1a18b17c0d3",
            "value": "100%"
          }
        },
        "cd2c9fa0e71a469ba8d3a82dd33ccb11": {
          "model_module": "@jupyter-widgets/controls",
          "model_name": "FloatProgressModel",
          "model_module_version": "1.5.0",
          "state": {
            "_dom_classes": [],
            "_model_module": "@jupyter-widgets/controls",
            "_model_module_version": "1.5.0",
            "_model_name": "FloatProgressModel",
            "_view_count": null,
            "_view_module": "@jupyter-widgets/controls",
            "_view_module_version": "1.5.0",
            "_view_name": "ProgressView",
            "bar_style": "success",
            "description": "",
            "description_tooltip": null,
            "layout": "IPY_MODEL_a5021281756b4b0281f7bc24b78344cd",
            "max": 20,
            "min": 0,
            "orientation": "horizontal",
            "style": "IPY_MODEL_c8ce0703b6804ae3881f8473b7e6d8d9",
            "value": 20
          }
        },
        "952e6927dc6e420b82eac904045d2513": {
          "model_module": "@jupyter-widgets/controls",
          "model_name": "HTMLModel",
          "model_module_version": "1.5.0",
          "state": {
            "_dom_classes": [],
            "_model_module": "@jupyter-widgets/controls",
            "_model_module_version": "1.5.0",
            "_model_name": "HTMLModel",
            "_view_count": null,
            "_view_module": "@jupyter-widgets/controls",
            "_view_module_version": "1.5.0",
            "_view_name": "HTMLView",
            "description": "",
            "description_tooltip": null,
            "layout": "IPY_MODEL_efb2249d53744fa18b3218aa415213cb",
            "placeholder": "​",
            "style": "IPY_MODEL_b156d267cb9b4f65a3611faa9c551d23",
            "value": " 20/20 [07:41&lt;00:00, 22.80s/it]"
          }
        },
        "2ad5893334ab430d94501e59822c5639": {
          "model_module": "@jupyter-widgets/base",
          "model_name": "LayoutModel",
          "model_module_version": "1.2.0",
          "state": {
            "_model_module": "@jupyter-widgets/base",
            "_model_module_version": "1.2.0",
            "_model_name": "LayoutModel",
            "_view_count": null,
            "_view_module": "@jupyter-widgets/base",
            "_view_module_version": "1.2.0",
            "_view_name": "LayoutView",
            "align_content": null,
            "align_items": null,
            "align_self": null,
            "border": null,
            "bottom": null,
            "display": null,
            "flex": null,
            "flex_flow": null,
            "grid_area": null,
            "grid_auto_columns": null,
            "grid_auto_flow": null,
            "grid_auto_rows": null,
            "grid_column": null,
            "grid_gap": null,
            "grid_row": null,
            "grid_template_areas": null,
            "grid_template_columns": null,
            "grid_template_rows": null,
            "height": null,
            "justify_content": null,
            "justify_items": null,
            "left": null,
            "margin": null,
            "max_height": null,
            "max_width": null,
            "min_height": null,
            "min_width": null,
            "object_fit": null,
            "object_position": null,
            "order": null,
            "overflow": null,
            "overflow_x": null,
            "overflow_y": null,
            "padding": null,
            "right": null,
            "top": null,
            "visibility": null,
            "width": null
          }
        },
        "d6fced789a584f1abe4aa60bc06ed2af": {
          "model_module": "@jupyter-widgets/base",
          "model_name": "LayoutModel",
          "model_module_version": "1.2.0",
          "state": {
            "_model_module": "@jupyter-widgets/base",
            "_model_module_version": "1.2.0",
            "_model_name": "LayoutModel",
            "_view_count": null,
            "_view_module": "@jupyter-widgets/base",
            "_view_module_version": "1.2.0",
            "_view_name": "LayoutView",
            "align_content": null,
            "align_items": null,
            "align_self": null,
            "border": null,
            "bottom": null,
            "display": null,
            "flex": null,
            "flex_flow": null,
            "grid_area": null,
            "grid_auto_columns": null,
            "grid_auto_flow": null,
            "grid_auto_rows": null,
            "grid_column": null,
            "grid_gap": null,
            "grid_row": null,
            "grid_template_areas": null,
            "grid_template_columns": null,
            "grid_template_rows": null,
            "height": null,
            "justify_content": null,
            "justify_items": null,
            "left": null,
            "margin": null,
            "max_height": null,
            "max_width": null,
            "min_height": null,
            "min_width": null,
            "object_fit": null,
            "object_position": null,
            "order": null,
            "overflow": null,
            "overflow_x": null,
            "overflow_y": null,
            "padding": null,
            "right": null,
            "top": null,
            "visibility": null,
            "width": null
          }
        },
        "ae5475d6f228439fb1f9e1a18b17c0d3": {
          "model_module": "@jupyter-widgets/controls",
          "model_name": "DescriptionStyleModel",
          "model_module_version": "1.5.0",
          "state": {
            "_model_module": "@jupyter-widgets/controls",
            "_model_module_version": "1.5.0",
            "_model_name": "DescriptionStyleModel",
            "_view_count": null,
            "_view_module": "@jupyter-widgets/base",
            "_view_module_version": "1.2.0",
            "_view_name": "StyleView",
            "description_width": ""
          }
        },
        "a5021281756b4b0281f7bc24b78344cd": {
          "model_module": "@jupyter-widgets/base",
          "model_name": "LayoutModel",
          "model_module_version": "1.2.0",
          "state": {
            "_model_module": "@jupyter-widgets/base",
            "_model_module_version": "1.2.0",
            "_model_name": "LayoutModel",
            "_view_count": null,
            "_view_module": "@jupyter-widgets/base",
            "_view_module_version": "1.2.0",
            "_view_name": "LayoutView",
            "align_content": null,
            "align_items": null,
            "align_self": null,
            "border": null,
            "bottom": null,
            "display": null,
            "flex": null,
            "flex_flow": null,
            "grid_area": null,
            "grid_auto_columns": null,
            "grid_auto_flow": null,
            "grid_auto_rows": null,
            "grid_column": null,
            "grid_gap": null,
            "grid_row": null,
            "grid_template_areas": null,
            "grid_template_columns": null,
            "grid_template_rows": null,
            "height": null,
            "justify_content": null,
            "justify_items": null,
            "left": null,
            "margin": null,
            "max_height": null,
            "max_width": null,
            "min_height": null,
            "min_width": null,
            "object_fit": null,
            "object_position": null,
            "order": null,
            "overflow": null,
            "overflow_x": null,
            "overflow_y": null,
            "padding": null,
            "right": null,
            "top": null,
            "visibility": null,
            "width": null
          }
        },
        "c8ce0703b6804ae3881f8473b7e6d8d9": {
          "model_module": "@jupyter-widgets/controls",
          "model_name": "ProgressStyleModel",
          "model_module_version": "1.5.0",
          "state": {
            "_model_module": "@jupyter-widgets/controls",
            "_model_module_version": "1.5.0",
            "_model_name": "ProgressStyleModel",
            "_view_count": null,
            "_view_module": "@jupyter-widgets/base",
            "_view_module_version": "1.2.0",
            "_view_name": "StyleView",
            "bar_color": null,
            "description_width": ""
          }
        },
        "efb2249d53744fa18b3218aa415213cb": {
          "model_module": "@jupyter-widgets/base",
          "model_name": "LayoutModel",
          "model_module_version": "1.2.0",
          "state": {
            "_model_module": "@jupyter-widgets/base",
            "_model_module_version": "1.2.0",
            "_model_name": "LayoutModel",
            "_view_count": null,
            "_view_module": "@jupyter-widgets/base",
            "_view_module_version": "1.2.0",
            "_view_name": "LayoutView",
            "align_content": null,
            "align_items": null,
            "align_self": null,
            "border": null,
            "bottom": null,
            "display": null,
            "flex": null,
            "flex_flow": null,
            "grid_area": null,
            "grid_auto_columns": null,
            "grid_auto_flow": null,
            "grid_auto_rows": null,
            "grid_column": null,
            "grid_gap": null,
            "grid_row": null,
            "grid_template_areas": null,
            "grid_template_columns": null,
            "grid_template_rows": null,
            "height": null,
            "justify_content": null,
            "justify_items": null,
            "left": null,
            "margin": null,
            "max_height": null,
            "max_width": null,
            "min_height": null,
            "min_width": null,
            "object_fit": null,
            "object_position": null,
            "order": null,
            "overflow": null,
            "overflow_x": null,
            "overflow_y": null,
            "padding": null,
            "right": null,
            "top": null,
            "visibility": null,
            "width": null
          }
        },
        "b156d267cb9b4f65a3611faa9c551d23": {
          "model_module": "@jupyter-widgets/controls",
          "model_name": "DescriptionStyleModel",
          "model_module_version": "1.5.0",
          "state": {
            "_model_module": "@jupyter-widgets/controls",
            "_model_module_version": "1.5.0",
            "_model_name": "DescriptionStyleModel",
            "_view_count": null,
            "_view_module": "@jupyter-widgets/base",
            "_view_module_version": "1.2.0",
            "_view_name": "StyleView",
            "description_width": ""
          }
        },
        "1bdf587971bf48a5985c9ed88f5d3f3a": {
          "model_module": "@jupyter-widgets/controls",
          "model_name": "HBoxModel",
          "model_module_version": "1.5.0",
          "state": {
            "_dom_classes": [],
            "_model_module": "@jupyter-widgets/controls",
            "_model_module_version": "1.5.0",
            "_model_name": "HBoxModel",
            "_view_count": null,
            "_view_module": "@jupyter-widgets/controls",
            "_view_module_version": "1.5.0",
            "_view_name": "HBoxView",
            "box_style": "",
            "children": [
              "IPY_MODEL_f4a277b6719a4d99a00800c30d17f494",
              "IPY_MODEL_db714ee1da044142ad7bb7cdb010b40c",
              "IPY_MODEL_fad226fc2f4e46d7b612d2e5282309b6"
            ],
            "layout": "IPY_MODEL_aae4070117e1454fab3926b15a74a602"
          }
        },
        "f4a277b6719a4d99a00800c30d17f494": {
          "model_module": "@jupyter-widgets/controls",
          "model_name": "HTMLModel",
          "model_module_version": "1.5.0",
          "state": {
            "_dom_classes": [],
            "_model_module": "@jupyter-widgets/controls",
            "_model_module_version": "1.5.0",
            "_model_name": "HTMLModel",
            "_view_count": null,
            "_view_module": "@jupyter-widgets/controls",
            "_view_module_version": "1.5.0",
            "_view_name": "HTMLView",
            "description": "",
            "description_tooltip": null,
            "layout": "IPY_MODEL_2e4f1c498c11419593d6e15e61688d13",
            "placeholder": "​",
            "style": "IPY_MODEL_c029f41aba024cfa8df4b0a9f18debf8",
            "value": "100%"
          }
        },
        "db714ee1da044142ad7bb7cdb010b40c": {
          "model_module": "@jupyter-widgets/controls",
          "model_name": "FloatProgressModel",
          "model_module_version": "1.5.0",
          "state": {
            "_dom_classes": [],
            "_model_module": "@jupyter-widgets/controls",
            "_model_module_version": "1.5.0",
            "_model_name": "FloatProgressModel",
            "_view_count": null,
            "_view_module": "@jupyter-widgets/controls",
            "_view_module_version": "1.5.0",
            "_view_name": "ProgressView",
            "bar_style": "success",
            "description": "",
            "description_tooltip": null,
            "layout": "IPY_MODEL_7b197c9e194c484d94b29a5ebde08eee",
            "max": 5000,
            "min": 0,
            "orientation": "horizontal",
            "style": "IPY_MODEL_3ddb54fae20f4678be8c7700e17ab1a8",
            "value": 5000
          }
        },
        "fad226fc2f4e46d7b612d2e5282309b6": {
          "model_module": "@jupyter-widgets/controls",
          "model_name": "HTMLModel",
          "model_module_version": "1.5.0",
          "state": {
            "_dom_classes": [],
            "_model_module": "@jupyter-widgets/controls",
            "_model_module_version": "1.5.0",
            "_model_name": "HTMLModel",
            "_view_count": null,
            "_view_module": "@jupyter-widgets/controls",
            "_view_module_version": "1.5.0",
            "_view_name": "HTMLView",
            "description": "",
            "description_tooltip": null,
            "layout": "IPY_MODEL_fef8961a0be34d52b477b939038901b4",
            "placeholder": "​",
            "style": "IPY_MODEL_877cefefeb1f4261afdfdf2e0655b355",
            "value": " 5000/5000 [00:14&lt;00:00, 335.72it/s]"
          }
        },
        "aae4070117e1454fab3926b15a74a602": {
          "model_module": "@jupyter-widgets/base",
          "model_name": "LayoutModel",
          "model_module_version": "1.2.0",
          "state": {
            "_model_module": "@jupyter-widgets/base",
            "_model_module_version": "1.2.0",
            "_model_name": "LayoutModel",
            "_view_count": null,
            "_view_module": "@jupyter-widgets/base",
            "_view_module_version": "1.2.0",
            "_view_name": "LayoutView",
            "align_content": null,
            "align_items": null,
            "align_self": null,
            "border": null,
            "bottom": null,
            "display": null,
            "flex": null,
            "flex_flow": null,
            "grid_area": null,
            "grid_auto_columns": null,
            "grid_auto_flow": null,
            "grid_auto_rows": null,
            "grid_column": null,
            "grid_gap": null,
            "grid_row": null,
            "grid_template_areas": null,
            "grid_template_columns": null,
            "grid_template_rows": null,
            "height": null,
            "justify_content": null,
            "justify_items": null,
            "left": null,
            "margin": null,
            "max_height": null,
            "max_width": null,
            "min_height": null,
            "min_width": null,
            "object_fit": null,
            "object_position": null,
            "order": null,
            "overflow": null,
            "overflow_x": null,
            "overflow_y": null,
            "padding": null,
            "right": null,
            "top": null,
            "visibility": null,
            "width": null
          }
        },
        "2e4f1c498c11419593d6e15e61688d13": {
          "model_module": "@jupyter-widgets/base",
          "model_name": "LayoutModel",
          "model_module_version": "1.2.0",
          "state": {
            "_model_module": "@jupyter-widgets/base",
            "_model_module_version": "1.2.0",
            "_model_name": "LayoutModel",
            "_view_count": null,
            "_view_module": "@jupyter-widgets/base",
            "_view_module_version": "1.2.0",
            "_view_name": "LayoutView",
            "align_content": null,
            "align_items": null,
            "align_self": null,
            "border": null,
            "bottom": null,
            "display": null,
            "flex": null,
            "flex_flow": null,
            "grid_area": null,
            "grid_auto_columns": null,
            "grid_auto_flow": null,
            "grid_auto_rows": null,
            "grid_column": null,
            "grid_gap": null,
            "grid_row": null,
            "grid_template_areas": null,
            "grid_template_columns": null,
            "grid_template_rows": null,
            "height": null,
            "justify_content": null,
            "justify_items": null,
            "left": null,
            "margin": null,
            "max_height": null,
            "max_width": null,
            "min_height": null,
            "min_width": null,
            "object_fit": null,
            "object_position": null,
            "order": null,
            "overflow": null,
            "overflow_x": null,
            "overflow_y": null,
            "padding": null,
            "right": null,
            "top": null,
            "visibility": null,
            "width": null
          }
        },
        "c029f41aba024cfa8df4b0a9f18debf8": {
          "model_module": "@jupyter-widgets/controls",
          "model_name": "DescriptionStyleModel",
          "model_module_version": "1.5.0",
          "state": {
            "_model_module": "@jupyter-widgets/controls",
            "_model_module_version": "1.5.0",
            "_model_name": "DescriptionStyleModel",
            "_view_count": null,
            "_view_module": "@jupyter-widgets/base",
            "_view_module_version": "1.2.0",
            "_view_name": "StyleView",
            "description_width": ""
          }
        },
        "7b197c9e194c484d94b29a5ebde08eee": {
          "model_module": "@jupyter-widgets/base",
          "model_name": "LayoutModel",
          "model_module_version": "1.2.0",
          "state": {
            "_model_module": "@jupyter-widgets/base",
            "_model_module_version": "1.2.0",
            "_model_name": "LayoutModel",
            "_view_count": null,
            "_view_module": "@jupyter-widgets/base",
            "_view_module_version": "1.2.0",
            "_view_name": "LayoutView",
            "align_content": null,
            "align_items": null,
            "align_self": null,
            "border": null,
            "bottom": null,
            "display": null,
            "flex": null,
            "flex_flow": null,
            "grid_area": null,
            "grid_auto_columns": null,
            "grid_auto_flow": null,
            "grid_auto_rows": null,
            "grid_column": null,
            "grid_gap": null,
            "grid_row": null,
            "grid_template_areas": null,
            "grid_template_columns": null,
            "grid_template_rows": null,
            "height": null,
            "justify_content": null,
            "justify_items": null,
            "left": null,
            "margin": null,
            "max_height": null,
            "max_width": null,
            "min_height": null,
            "min_width": null,
            "object_fit": null,
            "object_position": null,
            "order": null,
            "overflow": null,
            "overflow_x": null,
            "overflow_y": null,
            "padding": null,
            "right": null,
            "top": null,
            "visibility": null,
            "width": null
          }
        },
        "3ddb54fae20f4678be8c7700e17ab1a8": {
          "model_module": "@jupyter-widgets/controls",
          "model_name": "ProgressStyleModel",
          "model_module_version": "1.5.0",
          "state": {
            "_model_module": "@jupyter-widgets/controls",
            "_model_module_version": "1.5.0",
            "_model_name": "ProgressStyleModel",
            "_view_count": null,
            "_view_module": "@jupyter-widgets/base",
            "_view_module_version": "1.2.0",
            "_view_name": "StyleView",
            "bar_color": null,
            "description_width": ""
          }
        },
        "fef8961a0be34d52b477b939038901b4": {
          "model_module": "@jupyter-widgets/base",
          "model_name": "LayoutModel",
          "model_module_version": "1.2.0",
          "state": {
            "_model_module": "@jupyter-widgets/base",
            "_model_module_version": "1.2.0",
            "_model_name": "LayoutModel",
            "_view_count": null,
            "_view_module": "@jupyter-widgets/base",
            "_view_module_version": "1.2.0",
            "_view_name": "LayoutView",
            "align_content": null,
            "align_items": null,
            "align_self": null,
            "border": null,
            "bottom": null,
            "display": null,
            "flex": null,
            "flex_flow": null,
            "grid_area": null,
            "grid_auto_columns": null,
            "grid_auto_flow": null,
            "grid_auto_rows": null,
            "grid_column": null,
            "grid_gap": null,
            "grid_row": null,
            "grid_template_areas": null,
            "grid_template_columns": null,
            "grid_template_rows": null,
            "height": null,
            "justify_content": null,
            "justify_items": null,
            "left": null,
            "margin": null,
            "max_height": null,
            "max_width": null,
            "min_height": null,
            "min_width": null,
            "object_fit": null,
            "object_position": null,
            "order": null,
            "overflow": null,
            "overflow_x": null,
            "overflow_y": null,
            "padding": null,
            "right": null,
            "top": null,
            "visibility": null,
            "width": null
          }
        },
        "877cefefeb1f4261afdfdf2e0655b355": {
          "model_module": "@jupyter-widgets/controls",
          "model_name": "DescriptionStyleModel",
          "model_module_version": "1.5.0",
          "state": {
            "_model_module": "@jupyter-widgets/controls",
            "_model_module_version": "1.5.0",
            "_model_name": "DescriptionStyleModel",
            "_view_count": null,
            "_view_module": "@jupyter-widgets/base",
            "_view_module_version": "1.2.0",
            "_view_name": "StyleView",
            "description_width": ""
          }
        },
        "6fee700930604ebebaac90ff22ccea55": {
          "model_module": "@jupyter-widgets/controls",
          "model_name": "HBoxModel",
          "model_module_version": "1.5.0",
          "state": {
            "_dom_classes": [],
            "_model_module": "@jupyter-widgets/controls",
            "_model_module_version": "1.5.0",
            "_model_name": "HBoxModel",
            "_view_count": null,
            "_view_module": "@jupyter-widgets/controls",
            "_view_module_version": "1.5.0",
            "_view_name": "HBoxView",
            "box_style": "",
            "children": [
              "IPY_MODEL_f76a10e8a3ab49f5bb836232e8b12921",
              "IPY_MODEL_dc1e37a5891e4dc38d4effc907c4a240",
              "IPY_MODEL_f26b4f5869af4f5abd2fdbe526e4a280"
            ],
            "layout": "IPY_MODEL_d9a56c00ef8b4148a3607725881a1790"
          }
        },
        "f76a10e8a3ab49f5bb836232e8b12921": {
          "model_module": "@jupyter-widgets/controls",
          "model_name": "HTMLModel",
          "model_module_version": "1.5.0",
          "state": {
            "_dom_classes": [],
            "_model_module": "@jupyter-widgets/controls",
            "_model_module_version": "1.5.0",
            "_model_name": "HTMLModel",
            "_view_count": null,
            "_view_module": "@jupyter-widgets/controls",
            "_view_module_version": "1.5.0",
            "_view_name": "HTMLView",
            "description": "",
            "description_tooltip": null,
            "layout": "IPY_MODEL_18079588c12246f889613104829225f5",
            "placeholder": "​",
            "style": "IPY_MODEL_97a6b71bf4464d3689a184cd6d717237",
            "value": "100%"
          }
        },
        "dc1e37a5891e4dc38d4effc907c4a240": {
          "model_module": "@jupyter-widgets/controls",
          "model_name": "FloatProgressModel",
          "model_module_version": "1.5.0",
          "state": {
            "_dom_classes": [],
            "_model_module": "@jupyter-widgets/controls",
            "_model_module_version": "1.5.0",
            "_model_name": "FloatProgressModel",
            "_view_count": null,
            "_view_module": "@jupyter-widgets/controls",
            "_view_module_version": "1.5.0",
            "_view_name": "ProgressView",
            "bar_style": "success",
            "description": "",
            "description_tooltip": null,
            "layout": "IPY_MODEL_1fbdd1a0f5154f58b0f009601a2821a6",
            "max": 12,
            "min": 0,
            "orientation": "horizontal",
            "style": "IPY_MODEL_b1935165785c491b819bf61e22e0943e",
            "value": 12
          }
        },
        "f26b4f5869af4f5abd2fdbe526e4a280": {
          "model_module": "@jupyter-widgets/controls",
          "model_name": "HTMLModel",
          "model_module_version": "1.5.0",
          "state": {
            "_dom_classes": [],
            "_model_module": "@jupyter-widgets/controls",
            "_model_module_version": "1.5.0",
            "_model_name": "HTMLModel",
            "_view_count": null,
            "_view_module": "@jupyter-widgets/controls",
            "_view_module_version": "1.5.0",
            "_view_name": "HTMLView",
            "description": "",
            "description_tooltip": null,
            "layout": "IPY_MODEL_e9d98bd7ad6348c5ab48839a2733252f",
            "placeholder": "​",
            "style": "IPY_MODEL_2f81478efd2f490ab6138fd8da2c7f1c",
            "value": " 12/12 [01:38&lt;00:00,  8.10s/it]"
          }
        },
        "d9a56c00ef8b4148a3607725881a1790": {
          "model_module": "@jupyter-widgets/base",
          "model_name": "LayoutModel",
          "model_module_version": "1.2.0",
          "state": {
            "_model_module": "@jupyter-widgets/base",
            "_model_module_version": "1.2.0",
            "_model_name": "LayoutModel",
            "_view_count": null,
            "_view_module": "@jupyter-widgets/base",
            "_view_module_version": "1.2.0",
            "_view_name": "LayoutView",
            "align_content": null,
            "align_items": null,
            "align_self": null,
            "border": null,
            "bottom": null,
            "display": null,
            "flex": null,
            "flex_flow": null,
            "grid_area": null,
            "grid_auto_columns": null,
            "grid_auto_flow": null,
            "grid_auto_rows": null,
            "grid_column": null,
            "grid_gap": null,
            "grid_row": null,
            "grid_template_areas": null,
            "grid_template_columns": null,
            "grid_template_rows": null,
            "height": null,
            "justify_content": null,
            "justify_items": null,
            "left": null,
            "margin": null,
            "max_height": null,
            "max_width": null,
            "min_height": null,
            "min_width": null,
            "object_fit": null,
            "object_position": null,
            "order": null,
            "overflow": null,
            "overflow_x": null,
            "overflow_y": null,
            "padding": null,
            "right": null,
            "top": null,
            "visibility": null,
            "width": null
          }
        },
        "18079588c12246f889613104829225f5": {
          "model_module": "@jupyter-widgets/base",
          "model_name": "LayoutModel",
          "model_module_version": "1.2.0",
          "state": {
            "_model_module": "@jupyter-widgets/base",
            "_model_module_version": "1.2.0",
            "_model_name": "LayoutModel",
            "_view_count": null,
            "_view_module": "@jupyter-widgets/base",
            "_view_module_version": "1.2.0",
            "_view_name": "LayoutView",
            "align_content": null,
            "align_items": null,
            "align_self": null,
            "border": null,
            "bottom": null,
            "display": null,
            "flex": null,
            "flex_flow": null,
            "grid_area": null,
            "grid_auto_columns": null,
            "grid_auto_flow": null,
            "grid_auto_rows": null,
            "grid_column": null,
            "grid_gap": null,
            "grid_row": null,
            "grid_template_areas": null,
            "grid_template_columns": null,
            "grid_template_rows": null,
            "height": null,
            "justify_content": null,
            "justify_items": null,
            "left": null,
            "margin": null,
            "max_height": null,
            "max_width": null,
            "min_height": null,
            "min_width": null,
            "object_fit": null,
            "object_position": null,
            "order": null,
            "overflow": null,
            "overflow_x": null,
            "overflow_y": null,
            "padding": null,
            "right": null,
            "top": null,
            "visibility": null,
            "width": null
          }
        },
        "97a6b71bf4464d3689a184cd6d717237": {
          "model_module": "@jupyter-widgets/controls",
          "model_name": "DescriptionStyleModel",
          "model_module_version": "1.5.0",
          "state": {
            "_model_module": "@jupyter-widgets/controls",
            "_model_module_version": "1.5.0",
            "_model_name": "DescriptionStyleModel",
            "_view_count": null,
            "_view_module": "@jupyter-widgets/base",
            "_view_module_version": "1.2.0",
            "_view_name": "StyleView",
            "description_width": ""
          }
        },
        "1fbdd1a0f5154f58b0f009601a2821a6": {
          "model_module": "@jupyter-widgets/base",
          "model_name": "LayoutModel",
          "model_module_version": "1.2.0",
          "state": {
            "_model_module": "@jupyter-widgets/base",
            "_model_module_version": "1.2.0",
            "_model_name": "LayoutModel",
            "_view_count": null,
            "_view_module": "@jupyter-widgets/base",
            "_view_module_version": "1.2.0",
            "_view_name": "LayoutView",
            "align_content": null,
            "align_items": null,
            "align_self": null,
            "border": null,
            "bottom": null,
            "display": null,
            "flex": null,
            "flex_flow": null,
            "grid_area": null,
            "grid_auto_columns": null,
            "grid_auto_flow": null,
            "grid_auto_rows": null,
            "grid_column": null,
            "grid_gap": null,
            "grid_row": null,
            "grid_template_areas": null,
            "grid_template_columns": null,
            "grid_template_rows": null,
            "height": null,
            "justify_content": null,
            "justify_items": null,
            "left": null,
            "margin": null,
            "max_height": null,
            "max_width": null,
            "min_height": null,
            "min_width": null,
            "object_fit": null,
            "object_position": null,
            "order": null,
            "overflow": null,
            "overflow_x": null,
            "overflow_y": null,
            "padding": null,
            "right": null,
            "top": null,
            "visibility": null,
            "width": null
          }
        },
        "b1935165785c491b819bf61e22e0943e": {
          "model_module": "@jupyter-widgets/controls",
          "model_name": "ProgressStyleModel",
          "model_module_version": "1.5.0",
          "state": {
            "_model_module": "@jupyter-widgets/controls",
            "_model_module_version": "1.5.0",
            "_model_name": "ProgressStyleModel",
            "_view_count": null,
            "_view_module": "@jupyter-widgets/base",
            "_view_module_version": "1.2.0",
            "_view_name": "StyleView",
            "bar_color": null,
            "description_width": ""
          }
        },
        "e9d98bd7ad6348c5ab48839a2733252f": {
          "model_module": "@jupyter-widgets/base",
          "model_name": "LayoutModel",
          "model_module_version": "1.2.0",
          "state": {
            "_model_module": "@jupyter-widgets/base",
            "_model_module_version": "1.2.0",
            "_model_name": "LayoutModel",
            "_view_count": null,
            "_view_module": "@jupyter-widgets/base",
            "_view_module_version": "1.2.0",
            "_view_name": "LayoutView",
            "align_content": null,
            "align_items": null,
            "align_self": null,
            "border": null,
            "bottom": null,
            "display": null,
            "flex": null,
            "flex_flow": null,
            "grid_area": null,
            "grid_auto_columns": null,
            "grid_auto_flow": null,
            "grid_auto_rows": null,
            "grid_column": null,
            "grid_gap": null,
            "grid_row": null,
            "grid_template_areas": null,
            "grid_template_columns": null,
            "grid_template_rows": null,
            "height": null,
            "justify_content": null,
            "justify_items": null,
            "left": null,
            "margin": null,
            "max_height": null,
            "max_width": null,
            "min_height": null,
            "min_width": null,
            "object_fit": null,
            "object_position": null,
            "order": null,
            "overflow": null,
            "overflow_x": null,
            "overflow_y": null,
            "padding": null,
            "right": null,
            "top": null,
            "visibility": null,
            "width": null
          }
        },
        "2f81478efd2f490ab6138fd8da2c7f1c": {
          "model_module": "@jupyter-widgets/controls",
          "model_name": "DescriptionStyleModel",
          "model_module_version": "1.5.0",
          "state": {
            "_model_module": "@jupyter-widgets/controls",
            "_model_module_version": "1.5.0",
            "_model_name": "DescriptionStyleModel",
            "_view_count": null,
            "_view_module": "@jupyter-widgets/base",
            "_view_module_version": "1.2.0",
            "_view_name": "StyleView",
            "description_width": ""
          }
        },
        "e9419cf6b2604c58bbd2eaa4b9de7a8f": {
          "model_module": "@jupyter-widgets/controls",
          "model_name": "HBoxModel",
          "model_module_version": "1.5.0",
          "state": {
            "_dom_classes": [],
            "_model_module": "@jupyter-widgets/controls",
            "_model_module_version": "1.5.0",
            "_model_name": "HBoxModel",
            "_view_count": null,
            "_view_module": "@jupyter-widgets/controls",
            "_view_module_version": "1.5.0",
            "_view_name": "HBoxView",
            "box_style": "",
            "children": [
              "IPY_MODEL_4f3cc8b03b964cd384be8f7fa108948f",
              "IPY_MODEL_f76a9e78610e40028fe28b9de52d998d",
              "IPY_MODEL_3890635bd28a4d8b9b82ebb5d0fa3bd2"
            ],
            "layout": "IPY_MODEL_adc06d935c5a47de88b77d2a4f97d479"
          }
        },
        "4f3cc8b03b964cd384be8f7fa108948f": {
          "model_module": "@jupyter-widgets/controls",
          "model_name": "HTMLModel",
          "model_module_version": "1.5.0",
          "state": {
            "_dom_classes": [],
            "_model_module": "@jupyter-widgets/controls",
            "_model_module_version": "1.5.0",
            "_model_name": "HTMLModel",
            "_view_count": null,
            "_view_module": "@jupyter-widgets/controls",
            "_view_module_version": "1.5.0",
            "_view_name": "HTMLView",
            "description": "",
            "description_tooltip": null,
            "layout": "IPY_MODEL_0ef495857fcb4052b2e320938a3e1857",
            "placeholder": "​",
            "style": "IPY_MODEL_ba32911015514a10a358a039134ce6f5",
            "value": "100%"
          }
        },
        "f76a9e78610e40028fe28b9de52d998d": {
          "model_module": "@jupyter-widgets/controls",
          "model_name": "FloatProgressModel",
          "model_module_version": "1.5.0",
          "state": {
            "_dom_classes": [],
            "_model_module": "@jupyter-widgets/controls",
            "_model_module_version": "1.5.0",
            "_model_name": "FloatProgressModel",
            "_view_count": null,
            "_view_module": "@jupyter-widgets/controls",
            "_view_module_version": "1.5.0",
            "_view_name": "ProgressView",
            "bar_style": "success",
            "description": "",
            "description_tooltip": null,
            "layout": "IPY_MODEL_7cb5139e083748a0a09bc068fd972833",
            "max": 5000,
            "min": 0,
            "orientation": "horizontal",
            "style": "IPY_MODEL_adadeb4e905242c985e914eaadbc35f7",
            "value": 5000
          }
        },
        "3890635bd28a4d8b9b82ebb5d0fa3bd2": {
          "model_module": "@jupyter-widgets/controls",
          "model_name": "HTMLModel",
          "model_module_version": "1.5.0",
          "state": {
            "_dom_classes": [],
            "_model_module": "@jupyter-widgets/controls",
            "_model_module_version": "1.5.0",
            "_model_name": "HTMLModel",
            "_view_count": null,
            "_view_module": "@jupyter-widgets/controls",
            "_view_module_version": "1.5.0",
            "_view_name": "HTMLView",
            "description": "",
            "description_tooltip": null,
            "layout": "IPY_MODEL_509fa60b69154bed94f7596b72b0527d",
            "placeholder": "​",
            "style": "IPY_MODEL_bc4b2c3c08f04ab4bdef0426196c8da9",
            "value": " 5000/5000 [00:17&lt;00:00, 287.75it/s]"
          }
        },
        "adc06d935c5a47de88b77d2a4f97d479": {
          "model_module": "@jupyter-widgets/base",
          "model_name": "LayoutModel",
          "model_module_version": "1.2.0",
          "state": {
            "_model_module": "@jupyter-widgets/base",
            "_model_module_version": "1.2.0",
            "_model_name": "LayoutModel",
            "_view_count": null,
            "_view_module": "@jupyter-widgets/base",
            "_view_module_version": "1.2.0",
            "_view_name": "LayoutView",
            "align_content": null,
            "align_items": null,
            "align_self": null,
            "border": null,
            "bottom": null,
            "display": null,
            "flex": null,
            "flex_flow": null,
            "grid_area": null,
            "grid_auto_columns": null,
            "grid_auto_flow": null,
            "grid_auto_rows": null,
            "grid_column": null,
            "grid_gap": null,
            "grid_row": null,
            "grid_template_areas": null,
            "grid_template_columns": null,
            "grid_template_rows": null,
            "height": null,
            "justify_content": null,
            "justify_items": null,
            "left": null,
            "margin": null,
            "max_height": null,
            "max_width": null,
            "min_height": null,
            "min_width": null,
            "object_fit": null,
            "object_position": null,
            "order": null,
            "overflow": null,
            "overflow_x": null,
            "overflow_y": null,
            "padding": null,
            "right": null,
            "top": null,
            "visibility": null,
            "width": null
          }
        },
        "0ef495857fcb4052b2e320938a3e1857": {
          "model_module": "@jupyter-widgets/base",
          "model_name": "LayoutModel",
          "model_module_version": "1.2.0",
          "state": {
            "_model_module": "@jupyter-widgets/base",
            "_model_module_version": "1.2.0",
            "_model_name": "LayoutModel",
            "_view_count": null,
            "_view_module": "@jupyter-widgets/base",
            "_view_module_version": "1.2.0",
            "_view_name": "LayoutView",
            "align_content": null,
            "align_items": null,
            "align_self": null,
            "border": null,
            "bottom": null,
            "display": null,
            "flex": null,
            "flex_flow": null,
            "grid_area": null,
            "grid_auto_columns": null,
            "grid_auto_flow": null,
            "grid_auto_rows": null,
            "grid_column": null,
            "grid_gap": null,
            "grid_row": null,
            "grid_template_areas": null,
            "grid_template_columns": null,
            "grid_template_rows": null,
            "height": null,
            "justify_content": null,
            "justify_items": null,
            "left": null,
            "margin": null,
            "max_height": null,
            "max_width": null,
            "min_height": null,
            "min_width": null,
            "object_fit": null,
            "object_position": null,
            "order": null,
            "overflow": null,
            "overflow_x": null,
            "overflow_y": null,
            "padding": null,
            "right": null,
            "top": null,
            "visibility": null,
            "width": null
          }
        },
        "ba32911015514a10a358a039134ce6f5": {
          "model_module": "@jupyter-widgets/controls",
          "model_name": "DescriptionStyleModel",
          "model_module_version": "1.5.0",
          "state": {
            "_model_module": "@jupyter-widgets/controls",
            "_model_module_version": "1.5.0",
            "_model_name": "DescriptionStyleModel",
            "_view_count": null,
            "_view_module": "@jupyter-widgets/base",
            "_view_module_version": "1.2.0",
            "_view_name": "StyleView",
            "description_width": ""
          }
        },
        "7cb5139e083748a0a09bc068fd972833": {
          "model_module": "@jupyter-widgets/base",
          "model_name": "LayoutModel",
          "model_module_version": "1.2.0",
          "state": {
            "_model_module": "@jupyter-widgets/base",
            "_model_module_version": "1.2.0",
            "_model_name": "LayoutModel",
            "_view_count": null,
            "_view_module": "@jupyter-widgets/base",
            "_view_module_version": "1.2.0",
            "_view_name": "LayoutView",
            "align_content": null,
            "align_items": null,
            "align_self": null,
            "border": null,
            "bottom": null,
            "display": null,
            "flex": null,
            "flex_flow": null,
            "grid_area": null,
            "grid_auto_columns": null,
            "grid_auto_flow": null,
            "grid_auto_rows": null,
            "grid_column": null,
            "grid_gap": null,
            "grid_row": null,
            "grid_template_areas": null,
            "grid_template_columns": null,
            "grid_template_rows": null,
            "height": null,
            "justify_content": null,
            "justify_items": null,
            "left": null,
            "margin": null,
            "max_height": null,
            "max_width": null,
            "min_height": null,
            "min_width": null,
            "object_fit": null,
            "object_position": null,
            "order": null,
            "overflow": null,
            "overflow_x": null,
            "overflow_y": null,
            "padding": null,
            "right": null,
            "top": null,
            "visibility": null,
            "width": null
          }
        },
        "adadeb4e905242c985e914eaadbc35f7": {
          "model_module": "@jupyter-widgets/controls",
          "model_name": "ProgressStyleModel",
          "model_module_version": "1.5.0",
          "state": {
            "_model_module": "@jupyter-widgets/controls",
            "_model_module_version": "1.5.0",
            "_model_name": "ProgressStyleModel",
            "_view_count": null,
            "_view_module": "@jupyter-widgets/base",
            "_view_module_version": "1.2.0",
            "_view_name": "StyleView",
            "bar_color": null,
            "description_width": ""
          }
        },
        "509fa60b69154bed94f7596b72b0527d": {
          "model_module": "@jupyter-widgets/base",
          "model_name": "LayoutModel",
          "model_module_version": "1.2.0",
          "state": {
            "_model_module": "@jupyter-widgets/base",
            "_model_module_version": "1.2.0",
            "_model_name": "LayoutModel",
            "_view_count": null,
            "_view_module": "@jupyter-widgets/base",
            "_view_module_version": "1.2.0",
            "_view_name": "LayoutView",
            "align_content": null,
            "align_items": null,
            "align_self": null,
            "border": null,
            "bottom": null,
            "display": null,
            "flex": null,
            "flex_flow": null,
            "grid_area": null,
            "grid_auto_columns": null,
            "grid_auto_flow": null,
            "grid_auto_rows": null,
            "grid_column": null,
            "grid_gap": null,
            "grid_row": null,
            "grid_template_areas": null,
            "grid_template_columns": null,
            "grid_template_rows": null,
            "height": null,
            "justify_content": null,
            "justify_items": null,
            "left": null,
            "margin": null,
            "max_height": null,
            "max_width": null,
            "min_height": null,
            "min_width": null,
            "object_fit": null,
            "object_position": null,
            "order": null,
            "overflow": null,
            "overflow_x": null,
            "overflow_y": null,
            "padding": null,
            "right": null,
            "top": null,
            "visibility": null,
            "width": null
          }
        },
        "bc4b2c3c08f04ab4bdef0426196c8da9": {
          "model_module": "@jupyter-widgets/controls",
          "model_name": "DescriptionStyleModel",
          "model_module_version": "1.5.0",
          "state": {
            "_model_module": "@jupyter-widgets/controls",
            "_model_module_version": "1.5.0",
            "_model_name": "DescriptionStyleModel",
            "_view_count": null,
            "_view_module": "@jupyter-widgets/base",
            "_view_module_version": "1.2.0",
            "_view_name": "StyleView",
            "description_width": ""
          }
        }
      }
    }
  },
  "nbformat": 4,
  "nbformat_minor": 5
}